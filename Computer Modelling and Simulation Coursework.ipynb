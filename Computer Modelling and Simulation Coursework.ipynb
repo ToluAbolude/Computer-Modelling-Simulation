{
 "cells": [
  {
   "cell_type": "markdown",
   "metadata": {
    "nbpresent": {
     "id": "ea79c928-fb00-4af3-9e1f-a77737ba7403"
    }
   },
   "source": [
    "# 1. M/M/C/C"
   ]
  },
  {
   "cell_type": "markdown",
   "metadata": {},
   "source": [
    "#### 1.1. simulation program for a wireless cell that is modeled by an M/M/C/C queueing system."
   ]
  },
  {
   "cell_type": "markdown",
   "metadata": {
    "nbpresent": {
     "id": "1b68d7d5-f6f6-4ca3-bd35-10806001c798"
    }
   },
   "source": [
    "I initially created a simulation of M/M/C where I took inspiration from the M/M/1 (single-server queueing system) simulation model where the capacity of the queue is infinite, the number of servers is C, the probability distribution of inter-arrival times and the probability distribution of service times (job sizes) is M. I then used the M/M/C to create the M/M/C/C simulation where the capacity of the queue is set to C. The following is a summary of important function to create the graph for blocking probability and server utilization per arrival rate of M/M/C/C: \n",
    "<ul>\n",
    "    <li>In the main function I call all the relevant functions as mentioned below to successfully run a simulation of M/M/C/C. I have to initialise all global variables that will be used in this simulation in the main function.</li>\n",
    "    <li>I have the arrival function that schedules the next arrival in the system where it finds an idle serve (if all the servers are not busy) and schedule the departure time for this event in the time_next_event list. The first index of the time_next_event list is dedicated to new arrival and the rest is used for departure time. </li>\n",
    "    <li>The depart function replace the element (call that has ended) in the list to 0 (this means the server is now idle) except the first item because it holds the arrival time for new calls. </li>\n",
    "    <li>Over time after simulation with idealy 10,000 to 2000,000 calls (or customers) the patterns for the blocking probability  and the server utilization can be calculated in the report function using the formula in the coursework sheet exercise 2. The analytical model is used to verify the aggregated blocking probability for the simulation.</li>\n",
    "    <li> The analytical function is used to verify the simulation results over time per calls.</li>\n",
    "\n",
    "</ul>\n",
    "\n",
    "Finally, when the main function has run all the events and relevant functions it returns the server utilization, blocking probability, analytical server utilization, and analytical blocking probability. These values are used to create the graphs need in exercise 1.2.\n"
   ]
  },
  {
   "cell_type": "code",
   "execution_count": 2,
   "metadata": {
    "nbpresent": {
     "id": "9ff5d9b8-7bbc-49b9-9b4b-1e5c50be9f8e"
    }
   },
   "outputs": [],
   "source": [
    "%matplotlib inline\n",
    "import matplotlib.pyplot as plt\n",
    "# plt.style.use('seaborn-whitegrid')\n",
    "import numpy as np\n",
    "import random\n",
    "import math\n",
    "\n",
    "# SYSTEM STATE VARIABLE\n",
    "c = 16\n",
    "mean_service = 100\n",
    "num_customer_required = 100000    # used to end simulation\n",
    "\n",
    "\n",
    "\n",
    "def main(ar):\n",
    "    global time_past,time_arrival,total_loss,sim_time,next_event_type,time_next_event,area_server_status,server_status,mean_interarrival,num_customer_required,num_customers,time_last_event,max_double,num_events\n",
    "    \n",
    "    next_event_type = 0\n",
    "    \n",
    "    time_next_event= [0]*(c+1)\n",
    "    \n",
    "    server_status = [0]*c         # server status is IDLE.\n",
    "    \n",
    "    sim_time = 0.0\n",
    "    \n",
    "    total_loss = 0\n",
    "\n",
    "    \n",
    "    # Initialize the state variables\n",
    "    num_customers = 0\n",
    "    \n",
    "    time_last_event = 0.0\n",
    "    \n",
    "    max_double = float(\"inf\")\n",
    "    \n",
    "    num_events = c+1\n",
    "\n",
    "    # Initialize the statistical counters\n",
    "    area_server_status = [0]*c\n",
    "    \n",
    "    mean_interarrival = 1/ar\n",
    "    \n",
    "    # Initialize event list\n",
    "    \n",
    "    for i in range(0,c):\n",
    "        server_status [i] = 0\n",
    "\n",
    "    for i in range(0,c):\n",
    "        area_server_status [i] = 0\n",
    "    \n",
    "    time_next_event [0] = sim_time + expon(mean_interarrival)   # determine next arrival\n",
    "\n",
    "    for i in range(1,c+1):\n",
    "        time_next_event [i] = max_double  # determine next departure\n",
    "\n",
    "\n",
    "    while num_customers < num_customer_required:\n",
    "\n",
    "        timing() # Determine the next event\n",
    "\n",
    "        update_time_avg_stats() # NEXT STEP\n",
    "\n",
    "        if next_event_type == 0:\n",
    "            arrive() # next event is arrival\n",
    "\n",
    "        else:\n",
    "            depart(next_event_type) # next event is departure\n",
    "\n",
    "\n",
    "    return report()\n",
    "\n",
    "\n",
    "\n",
    "\n",
    "def timing():\n",
    "    global sim_time,time_last_event,next_event_type\n",
    "\n",
    "    min_time_next_event = max_double-1\n",
    "   \n",
    "    # Determine the event type of the next event to occur\n",
    "    \n",
    "    for i in range(num_events):\n",
    "        if ( time_next_event[i] <= min_time_next_event ):\n",
    "            min_time_next_event = time_next_event[i]\n",
    "            \n",
    "            next_event_type = i\n",
    "\n",
    "    time_last_event = sim_time\n",
    "    \n",
    "    # advance the simulation clock\n",
    "    \n",
    "    sim_time = time_next_event[next_event_type]\n",
    "\n",
    "\n",
    "\n",
    "def update_time_avg_stats():\n",
    "    global time_past,area_server_status\n",
    "    \n",
    "    # Update area accumulators for time-average statistics\n",
    "    \n",
    "    time_past = sim_time-time_last_event\n",
    "\n",
    "    for i in range(0,c):\n",
    "        area_server_status[i] += time_past * server_status[i]\n",
    "\n",
    "\n",
    "\n",
    "def arrive():\n",
    "    global server_status,time_arrival,time_next_event,num_customers,total_loss\n",
    "    # Schedule next arrival\n",
    "    \n",
    "    time_next_event[0] = sim_time + expon(mean_interarrival)\n",
    "    \n",
    "    try:\n",
    "        server_idle = server_status.index(0)\n",
    "\n",
    "        server_status[server_idle] = 1\n",
    "        \n",
    "        time_next_event[server_idle+1] = sim_time + expon(mean_service)\n",
    "        \n",
    "        num_customers+= 1\n",
    "        \n",
    "    except:  # server is BUSY\n",
    "        total_loss+= 1\n",
    "        \n",
    "\n",
    "\n",
    "\n",
    "def depart(j):\n",
    "    global server_status,time_next_event,num_in_q,total_loss,time_arrival\n",
    "    \n",
    "    server_status[j-1] = 0\n",
    "    \n",
    "    time_next_event[j] = max_double\n",
    "\n",
    "\n",
    "\n",
    "\n",
    "\n",
    "def report():\n",
    "    # Compute the desired measures of performance\n",
    "    server_utilization=0\n",
    "    \n",
    "    for i in range(0,c):\n",
    "        server_utilization += area_server_status[i]\n",
    "        \n",
    "    server_utilization = server_utilization/sim_time/c\n",
    "    \n",
    "    blocking_probability = total_loss/num_customers\n",
    "    model1,model2 = analytical()\n",
    "    return server_utilization,model2,model1,blocking_probability\n",
    "\n",
    "\n",
    "def analytical():\n",
    "    # Compute the analytical measures of performance\n",
    "    lambda_muie = 1/(mean_interarrival/mean_service)\n",
    "         \n",
    "    top = (lambda_muie**c)/math.factorial(c)\n",
    "    \n",
    "    bottom = 0\n",
    "    \n",
    "    for k in range(0,c):\n",
    "        bottom+=(lambda_muie**k)/math.factorial(k)\n",
    "    \n",
    "    bp = top/bottom\n",
    "    \n",
    "    su = ((1-bp)*(lambda_muie))/c\n",
    "    \n",
    "    return bp,su\n",
    "\n",
    "\n",
    "def expon(mean):\n",
    "    # Return an exponential random variate with mean \"mean\".\n",
    "    \n",
    "    RAND = random.uniform(0,1)\n",
    "    \n",
    "    average =  -mean* (math.log(RAND)) # RAND is uniformally distributed on (0, 1)\n",
    "    \n",
    "    return average\n"
   ]
  },
  {
   "cell_type": "markdown",
   "metadata": {},
   "source": [
    "#### 1.2.  Draw figures to depict the performance results for the Blocking Probability and the Server Utilization "
   ]
  },
  {
   "cell_type": "code",
   "execution_count": 3,
   "metadata": {
    "nbpresent": {
     "id": "d8c18ba0-7d52-4cd1-8bc5-cdffba26308d"
    }
   },
   "outputs": [
    {
     "data": {
      "image/png": "[encoded data removed]",
      "text/plain": [
       "<Figure size 432x288 with 1 Axes>"
      ]
     },
     "metadata": {
      "needs_background": "light"
     },
     "output_type": "display_data"
    }
   ],
   "source": [
    "y1 = []\n",
    "\n",
    "y2 = []\n",
    "\n",
    "y3 = []\n",
    "\n",
    "y4 = []\n",
    "\n",
    "x = np.arange(0.01, 0.11, 0.01)\n",
    "\n",
    "for f in range(len(x)):\n",
    "    p = main(x[f])\n",
    "    \n",
    "    y1.append(p[3])\n",
    "    \n",
    "    y2.append(p[2])\n",
    "    \n",
    "    y3.append(p[0])\n",
    "    \n",
    "    y4.append(p[1])\n",
    "    \n",
    "\n",
    "fig = plt.figure()\n",
    "\n",
    "plt.xlabel(\"Arrival Rate\")\n",
    "\n",
    "plt.ylabel(\"Blocking Probability\")\n",
    "\n",
    "plt.plot(x,y1,'ok',label='Simulation_Model')\n",
    "\n",
    "plt.plot(x,y2,'-r',label='Analytical_Model')\n",
    "\n",
    "plt.title('Blocking probability graph')\n",
    "\n",
    "plt.legend(loc='upper left')\n",
    "\n",
    "y = np.asarray(y2);\n",
    "plt.xlim(x.min() * 1.1, x.max() * 1.1);\n",
    "plt.ylim(y.min() * 1.1, y.max() * 1.1);\n",
    "plt.xticks(np.arange(0.00, 0.11, 0.01));\n",
    "plt.yticks(np.arange(0.00, y.max(), 0.002));"
   ]
  },
  {
   "cell_type": "code",
   "execution_count": 4,
   "metadata": {
    "nbpresent": {
     "id": "1a7c0ac2-06e1-45b7-9628-ba6669acd0e8"
    }
   },
   "outputs": [
    {
     "data": {
      "image/png": "[encoded data removed]",
      "text/plain": [
       "<Figure size 432x288 with 1 Axes>"
      ]
     },
     "metadata": {
      "needs_background": "light"
     },
     "output_type": "display_data"
    }
   ],
   "source": [
    "fig= plt.figure()\n",
    "\n",
    "plt.xlabel(\"Arrival Rate\")\n",
    "\n",
    "plt.ylabel(\"Server Utilization\")\n",
    "\n",
    "plt.plot(x,y3,'ob',label='Simulation_Model')\n",
    "\n",
    "plt.plot(x,y4,'-g',label='Analytical_Model')\n",
    "\n",
    "plt.title('Server Utilization graph')\n",
    "\n",
    "plt.legend(loc='lower right')\n",
    "\n",
    "y = np.asarray(y4);\n",
    "plt.xlim(x.min() * 1.1, x.max() * 1.1);\n",
    "plt.ylim(y.min() * 1.1, y.max() * 1.1);\n",
    "plt.xticks(np.arange(0.00, 0.11, 0.01));\n",
    "plt.yticks(np.arange(0.00, y.max(), 0.2));"
   ]
  },
  {
   "cell_type": "markdown",
   "metadata": {
    "nbpresent": {
     "id": "7836ffa5-bf8e-4ccc-97fe-d4d39b0dd035"
    }
   },
   "source": [
    "I used Erlang's Loss Formula as the analytical model to verify the simulation model's result for the server utilization, which is: \n",
    "$U = NB/n = (1-B)*x/n$, where \n",
    "<ul>\n",
    "    <li>$U$ is the server utilization;</li>\n",
    "    <li>$NB = (1-B)*x$ is the average number of busy servers;</li>\n",
    "    <li>$x = λ/μ$ is the traffic intensity measured in erlangs;</li>\n",
    "    <li>$n$ is the number of servers;</li>\n",
    "    <li>$λ$ is the arrival rate;</li>\n",
    "    <li>$μ$ is the service rate;</li>\n",
    "</ul>\n",
    "</div>"
   ]
  },
  {
   "cell_type": "markdown",
   "metadata": {
    "nbpresent": {
     "id": "10c474e3-ef3c-47c4-b47d-a30cc20512a9"
    }
   },
   "source": [
    "#### 1.3.  Find the maximum value of Blocking Probability.\n",
    "### The maximum value for input rates so that the blocking probability < 0.01 is 0.87 ~ 0.88"
   ]
  },
  {
   "cell_type": "markdown",
   "metadata": {
    "nbpresent": {
     "id": "12712c27-456a-4f9d-9f2b-8fdf645a500c"
    }
   },
   "source": [
    "# 2. M1+M2/M/C/C"
   ]
  },
  {
   "cell_type": "markdown",
   "metadata": {},
   "source": [
    "#### 2.1 Simulation program for a wireless cell with handover"
   ]
  },
  {
   "cell_type": "markdown",
   "metadata": {
    "nbpresent": {
     "id": "18cfeea2-88eb-43db-9e03-c62152eaaa74"
    }
   },
   "source": [
    "The M1+M2/M/C/C has a two-priority class arrivals (different source of arrivals), for a single M/M/C/C queue. I took inspiration from the M/M/C/C simulation to create that of M1+M1/M/C/C simulation. I ensured that there were two indexes in the list which contained the next event times(ideally the first two indexes) where the arrival for the new call and the handover call respectively. The following is a summary of important events to create the graph for aggregated blocking probability of M1+M2/M/C/C: \n",
    "<ul>\n",
    "    <li>In the main function I call all the relevant functions as mentioned below to successfully run a simulation of M1+M2/M/C/C. I have to initialise all global variables that will be used in this simulation in the main function.</li>\n",
    "<li> Timing function advances the simulation clock and determines the event type of the next event to occur </li>\n",
    "    <li>I have the arrival function that schedules the next arrival in the system where it finds an idle serve (if all the servers are not busy) and schedule the departure time for this event in the time_next_event list. The system checks if the call that enters this cell is a handover call(higher priority) or a new call and drops any call if there is no idle serve or not enough idle server for new calls.</li>\n",
    "    <li>The depart function replace the element (call that has ended) in the list to 0 (this means the server is now idle)except the first two items because the hold the arrival time for the handover and new calls.</li>\n",
    "    <li>Over time after simulation with idealy 10,000 to 2,000,000 calls (or customers) the patterns for the aggregated blocking probability can be calculated in the report function using the formula in the coursework sheet exercise 2. The analytical model is used to verify the aggregated blocking probability for the simulation.</li>\n",
    "\n",
    "</ul>\n",
    "\n",
    "Eventually, when the main function has run all the events and relevant functions it returns the aggregated blocking probability, and the analytical aggregated blocking probability. These values are used to create the graphs need in exercise 2.2, and 2.3.\n",
    "\n"
   ]
  },
  {
   "cell_type": "code",
   "execution_count": 5,
   "metadata": {
    "nbpresent": {
     "id": "39bd2738-ac24-4e61-8369-37e2a14faac9"
    }
   },
   "outputs": [],
   "source": [
    "# SYSTEM STATE VARIABLE\n",
    "c = 16\n",
    "mean_service = 100\n",
    "num_customer_required = 100000    # used to end simulation\n",
    "\n",
    "\n",
    "\n",
    "\n",
    "def main(ar,tp):\n",
    "    global total_new_call_loss,total_handover_loss,total_handover_arrivals,total_new_call_arrivals,lambda_2,time_past,time_arrival,sim_time,next_event_type,time_next_event,area_server_status,server_status,mean_interarrival,num_customer_required,num_customers,time_last_event,max_double,num_events,num_customers\n",
    "\n",
    "    next_event_type = 0\n",
    "\n",
    "    time_next_event= [0]*(c+2)\n",
    "\n",
    "    server_status = [0]*c         # server status is IDLE.\n",
    "\n",
    "    sim_time = 0.0\n",
    "\n",
    "    total_new_call_loss = 0\n",
    "\n",
    "    total_handover_loss = 0\n",
    "    \n",
    "    total_new_call_arrivals = 0\n",
    "\n",
    "    total_handover_arrivals = 0\n",
    "\n",
    "\n",
    "    # Initialize the state variables\n",
    "    num_customers = 0\n",
    "\n",
    "    time_last_event = 0.0\n",
    "\n",
    "    max_double = float(\"inf\")\n",
    "\n",
    "    num_events = c+2\n",
    "\n",
    "    # Initialize the statistical counters\n",
    "    area_server_status = [0]*c\n",
    "\n",
    "    mean_interarrival = 1/ar\n",
    "    \n",
    "    lambda_2 = 1/tp\n",
    "\n",
    "    # Initialize event list\n",
    "    for i in range(0,c):\n",
    "            server_status [i] = 0\n",
    "\n",
    "    for i in range(0,c):\n",
    "            area_server_status [i] = 0\n",
    "\n",
    "    time_next_event [0] = sim_time + expon(mean_interarrival)   # determine next arrival\n",
    "    time_next_event [1] = sim_time + expon(lambda_2)   # determine next arrival\n",
    "\n",
    "    for i in range(2,c+2):\n",
    "            time_next_event [i] = max_double  # determine next departure\n",
    "\n",
    "\n",
    "    while num_customers < num_customer_required:\n",
    "\n",
    "            timing() # Determine the next event\n",
    "\n",
    "            update_time_avg_stats() # NEXT STEP\n",
    "\n",
    "            if next_event_type == 0:\n",
    "                    arrive(0)     # next event is the arrival of a new call\n",
    "\n",
    "            elif next_event_type == 1:\n",
    "                    arrive(1)     # next event is the arrival of a handover call\n",
    "\n",
    "            else:\n",
    "                    depart(next_event_type) # next event is departure\n",
    "\n",
    "\n",
    "    return report()\n",
    "\n",
    "   \n",
    "\n",
    "    \n",
    "def timing():\n",
    "    global sim_time,time_last_event,next_event_type,max_double\n",
    "\n",
    "    min_time_next_event = max_double-1\n",
    "\n",
    "    # Determine the event type of the next event to occur\n",
    "\n",
    "    for i in range(num_events):\n",
    "            if ( time_next_event[i] <= min_time_next_event ):\n",
    "                    min_time_next_event = time_next_event[i]\n",
    "\n",
    "                    next_event_type = i\n",
    "\n",
    "    time_last_event = sim_time\n",
    "\n",
    "    # advance the simulation clock\n",
    "\n",
    "    sim_time = time_next_event[next_event_type]\n",
    "\n",
    "\n",
    "#PART 3\n",
    "def update_time_avg_stats():\n",
    "    global time_last_event,time_past,area_server_status,c\n",
    "\n",
    "    # Update area accumulators for time-average statistics\n",
    "\n",
    "    time_past = sim_time-time_last_event\n",
    "\n",
    "    for i in range(1,c):\n",
    "            area_server_status[i] += time_past * server_status[i]\n",
    "\n",
    "\n",
    "            \n",
    "def arrive(j):\n",
    "    global server_status,num_in_q,time_arrival,time_next_event,mean_service,total_new_call_loss,total_handover_loss,total_handover_arrivals,total_new_call_arrivals,num_customers\n",
    "    # Schedule next arrival\n",
    "\n",
    "    if j==0:\n",
    "            time_next_event[0] = sim_time + expon(mean_interarrival)\n",
    "            total_new_call_arrivals += 1\n",
    "            if server_status.count(0)>2:\n",
    "                    server_idle = server_status.index(0)\n",
    "                    server_status[server_idle] = 1\n",
    "                    time_next_event[server_idle+2] = sim_time + expon(mean_service)\n",
    "            else:\n",
    "                    total_new_call_loss +=1   # not enough servers are available to accomodate the new call\n",
    "    else:\n",
    "            time_next_event[1] = sim_time + expon(lambda_2)\n",
    "            total_handover_arrivals+= 1\n",
    "            if server_status.count(0)> 0:\n",
    "                    server_idle = server_status.index(0)\n",
    "                    server_status[server_idle] = 1\n",
    "                    time_next_event[server_idle+2] = sim_time + expon(mean_service)\n",
    "            else:\n",
    "                    total_handover_loss+=1     # all servers are BUSY\n",
    "\n",
    "    num_customers = total_new_call_arrivals + total_handover_arrivals\n",
    "    \n",
    "\n",
    "    \n",
    "def depart(j):\n",
    "    global server_status,time_next_event\n",
    "\n",
    "    server_status[j-2] = 0\n",
    "\n",
    "    time_next_event[j] = max_double\n",
    "\n",
    "\n",
    "    \n",
    "def report():\n",
    "    # Compute the desired measures of performance\n",
    "    \n",
    "    new_calls = total_new_call_loss / total_new_call_arrivals\n",
    "\n",
    "    handover_calls = total_handover_loss / total_handover_arrivals\n",
    " \n",
    "    aggregated_blocking_probability = new_calls + 10 * handover_calls\n",
    "    \n",
    "    model  = analytical()\n",
    "    \n",
    "    return  aggregated_blocking_probability,model\n",
    "\n",
    " \n",
    "def analytical():\n",
    "    # Compute the analytical measures of performance\n",
    "    n = 2\n",
    "\n",
    "    lambda1_muie = 1/(mean_interarrival/mean_service)\n",
    "    \n",
    "    lambda2_muie = 1/(lambda_2/mean_service)\n",
    "  \n",
    "    lambda12_muie = (lambda1_muie+lambda2_muie)\n",
    "\n",
    "    first = 0\n",
    "    \n",
    "    second = 0\n",
    "    \n",
    "    prob_loss_1 = 0\n",
    "    \n",
    "    for k in range(0,(c-n)+1):\n",
    "        first += ((1/math.factorial(k)) * (lambda12_muie**(k)))\n",
    "\n",
    "    for k in range((c-n+1),c+1):\n",
    "        second += ((1/math.factorial(k))*(lambda12_muie**(c-n))*(lambda2_muie**(k-(c-n))))\n",
    " \n",
    "    P_0 = 1/(first + second)    # The initial state probability\n",
    "       \n",
    "    for k in range((c-n),c+1):\n",
    "        if 0 <= k <= (c-n):\n",
    "            P_k = (1/math.factorial(k))*(lambda12_muie**(k))*(P_0) # The state probabilities \n",
    "\n",
    "        else:\n",
    "            P_k = (1/math.factorial(k)) * (lambda12_muie**(c-n)) * ((lambda2_muie)**(k-(c-n))) * (P_0)     # The state probabilities \n",
    "        \n",
    "        prob_loss_1 += P_k      # The blocking probability that the new calls    \n",
    "\n",
    "    \n",
    "    prob_loss_2 = (1/math.factorial(c))*(lambda12_muie**(c-n))*(lambda2_muie**(n))*(P_0)        # The blocking probability that a handoff call\n",
    "\n",
    "    abp = prob_loss_1 + 10 * prob_loss_2\n",
    "\n",
    "    return abp\n",
    "\n",
    "    \n",
    "\n",
    "def expon(mean):\n",
    "    # Return an exponential random variate with mean \"mean\".\n",
    "\n",
    "    RAND = random.uniform(0,1)\n",
    "\n",
    "    average =  -mean*(math.log(RAND)) # RAND is uniformally distributed on (0, 1)\n",
    "    \n",
    "    return average\n",
    "\n"
   ]
  },
  {
   "cell_type": "markdown",
   "metadata": {},
   "source": [
    "#### 2.2.   Find the maximum value for the handover rate so that the Aggregated Blocking Probability (ABP) < 0.02.\n",
    "The arrival rate = 0.1 and the hand over rate is from 0.01 to 0.10."
   ]
  },
  {
   "cell_type": "code",
   "execution_count": 6,
   "metadata": {},
   "outputs": [
    {
     "data": {
      "image/png": "[encoded data removed]",
      "text/plain": [
       "<Figure size 432x288 with 1 Axes>"
      ]
     },
     "metadata": {
      "needs_background": "light"
     },
     "output_type": "display_data"
    }
   ],
   "source": [
    "y3 = []\n",
    "\n",
    "y4 = []\n",
    "\n",
    "x = np.arange(0.01, 0.11, 0.01) # a list from 0.01 to 0.10 \n",
    "\n",
    "for f in range(len(x)):\n",
    "    p = main(0.1,x[f])\n",
    "    \n",
    "    y3.append(p[0])\n",
    "    \n",
    "    y4.append(p[1])\n",
    "\n",
    "\n",
    "fig = plt.figure()\n",
    "\n",
    "plt.xlabel(\"Handover Rate\")\n",
    "\n",
    "plt.ylabel(\"Aggregated Blocking Probability\")\n",
    "\n",
    "plt.plot(x,y3,'ok',label='Simulation_Model')\n",
    "\n",
    "plt.plot(x,y4,'-r',label='Analytical_Model')\n",
    "\n",
    "plt.title('Aggregated Blocking probability graph')\n",
    "\n",
    "plt.legend(loc='upper left')\n",
    "\n",
    "plt.xlim(0.00, 0.12);\n",
    "plt.ylim(0.00, 1.8);\n"
   ]
  },
  {
   "cell_type": "markdown",
   "metadata": {},
   "source": [
    "### The maximum value for the handover rate so that the Aggregated Blocking Probability (ABP) < 0.02 cannot be found on the graph because there is not enough servers or the threhold is too low.  "
   ]
  },
  {
   "cell_type": "markdown",
   "metadata": {},
   "source": [
    "#### 2.3  Find the maximum value for the new call rates so that the ABP < 0.02.\n",
    "\n",
    "The handover rate = 0.03 and the arrival rate is from 0.01 to 0.10."
   ]
  },
  {
   "cell_type": "code",
   "execution_count": null,
   "metadata": {
    "nbpresent": {
     "id": "00655b7c-59b1-4c70-9921-c330c98e8374"
    }
   },
   "outputs": [],
   "source": [
    "y1 = []\n",
    "\n",
    "y2 = []\n",
    "\n",
    "x = np.arange(0.01, 0.11, 0.01) # a list from 0.01 to 0.10 \n",
    "\n",
    "for f in range(len(x)):\n",
    "    p = main(x[f],0.03)\n",
    "    \n",
    "    y1.append(p[0])\n",
    "    \n",
    "    y2.append(p[1])\n",
    "\n",
    "\n",
    "fig = plt.figure()\n",
    "\n",
    "plt.xlabel(\"Arrival Rate\")\n",
    "\n",
    "plt.ylabel(\"Aggregated Blocking Probability\")\n",
    "\n",
    "plt.plot(x,y1,'og',label='Simulation_Model')\n",
    "\n",
    "plt.plot(x,y2,'-b',label='Analytical_Model')\n",
    "\n",
    "plt.title('Aggregated Blocking probability graph')\n",
    "\n",
    "plt.legend(loc='upper left')\n",
    "y = np.asarray(y2)\n",
    "plt.xlim(x.min() * 1.1, x.max() * 1.1);\n",
    "plt.ylim(y.min() * 1.1, y.max() * 1.1);\n",
    "plt.xticks(np.arange(0.00, 0.11, 0.01));\n",
    "plt.yticks(np.arange(0.00, y.max(), 0.02));"
   ]
  },
  {
   "cell_type": "markdown",
   "metadata": {
    "nbpresent": {
     "id": "bf5abf67-04ca-4ef8-abb1-7ea08296f245"
    }
   },
   "source": [
    "### The maximum value for the new call rates so that the ABP < 0.02 is 0.046"
   ]
  }
 ],
 "metadata": {
  "anaconda-cloud": {},
  "kernelspec": {
   "display_name": "Python 3",
   "language": "python",
   "name": "python3"
  },
  "language_info": {
   "codemirror_mode": {
    "name": "ipython",
    "version": 3
   },
   "file_extension": ".py",
   "mimetype": "text/x-python",
   "name": "python",
   "nbconvert_exporter": "python",
   "pygments_lexer": "ipython3",
   "version": "3.7.4"
  },
  "nbpresent": {
   "slides": {
    "13271923-8af7-45ab-a922-35d1916bce7a": {
     "id": "13271923-8af7-45ab-a922-35d1916bce7a",
     "prev": "b7655ff5-d111-4556-8b36-c8537807b149",
     "regions": {
      "dca6756f-6f23-466d-b897-f6c954faf09f": {
       "attrs": {
        "height": 0.8,
        "width": 0.8,
        "x": 0.1,
        "y": 0.1
       },
       "content": {
        "cell": "12712c27-456a-4f9d-9f2b-8fdf645a500c",
        "part": "whole"
       },
       "id": "dca6756f-6f23-466d-b897-f6c954faf09f"
      }
     }
    },
    "1453714e-4ca3-4cf1-84cd-026426cd27ca": {
     "id": "1453714e-4ca3-4cf1-84cd-026426cd27ca",
     "prev": "4079617c-659a-4c73-9cf8-3cfe8fb2aeea",
     "regions": {
      "90f80583-c7e9-4086-b70c-552d7509eefc": {
       "attrs": {
        "height": 0.8,
        "width": 0.8,
        "x": 0.1,
        "y": 0.1
       },
       "content": {
        "cell": "bf5abf67-04ca-4ef8-abb1-7ea08296f245",
        "part": "whole"
       },
       "id": "90f80583-c7e9-4086-b70c-552d7509eefc"
      }
     }
    },
    "4079617c-659a-4c73-9cf8-3cfe8fb2aeea": {
     "id": "4079617c-659a-4c73-9cf8-3cfe8fb2aeea",
     "prev": "ffab8dc4-5af4-43d0-8bab-9096bd467abb",
     "regions": {
      "fc6e65a5-9906-47f4-b454-5eca60220568": {
       "attrs": {
        "height": 0.8,
        "width": 0.8,
        "x": 0.1,
        "y": 0.1
       },
       "content": {
        "cell": "39bd2738-ac24-4e61-8369-37e2a14faac9",
        "part": "whole"
       },
       "id": "fc6e65a5-9906-47f4-b454-5eca60220568"
      }
     }
    },
    "423fdbde-e656-4787-9ca2-563580a79960": {
     "id": "423fdbde-e656-4787-9ca2-563580a79960",
     "prev": "70a9ccd3-9938-4e52-8c95-71e252747b60",
     "regions": {
      "3d2a9f25-73e3-4287-af7d-2b82d851978d": {
       "attrs": {
        "height": 0.8,
        "width": 0.8,
        "x": 0.1,
        "y": 0.1
       },
       "content": {
        "cell": "10c474e3-ef3c-47c4-b47d-a30cc20512a9",
        "part": "whole"
       },
       "id": "3d2a9f25-73e3-4287-af7d-2b82d851978d"
      }
     }
    },
    "451ef65c-6a06-43d3-a6eb-3b5ce337b15e": {
     "id": "451ef65c-6a06-43d3-a6eb-3b5ce337b15e",
     "prev": "423fdbde-e656-4787-9ca2-563580a79960",
     "regions": {
      "aadcb562-6613-4ba8-969b-a2212cfbef1d": {
       "attrs": {
        "height": 0.8,
        "width": 0.8,
        "x": 0.1,
        "y": 0.1
       },
       "content": {
        "cell": "d8c18ba0-7d52-4cd1-8bc5-cdffba26308d",
        "part": "whole"
       },
       "id": "aadcb562-6613-4ba8-969b-a2212cfbef1d"
      }
     }
    },
    "4f490325-d564-441b-8753-4c396a969870": {
     "id": "4f490325-d564-441b-8753-4c396a969870",
     "prev": "1453714e-4ca3-4cf1-84cd-026426cd27ca",
     "regions": {
      "303b8014-36b5-4e16-8a48-1f4136deec5f": {
       "attrs": {
        "height": 0.8,
        "width": 0.8,
        "x": 0.1,
        "y": 0.1
       },
       "content": {
        "cell": "00655b7c-59b1-4c70-9921-c330c98e8374",
        "part": "whole"
       },
       "id": "303b8014-36b5-4e16-8a48-1f4136deec5f"
      }
     }
    },
    "70a9ccd3-9938-4e52-8c95-71e252747b60": {
     "id": "70a9ccd3-9938-4e52-8c95-71e252747b60",
     "prev": "ebf8bc14-dbf5-4e84-9a38-3d8fb76885a7",
     "regions": {
      "656406f7-28fb-4ac8-9b52-5a9cec5ec1c2": {
       "attrs": {
        "height": 0.8,
        "width": 0.8,
        "x": 0.1,
        "y": 0.1
       },
       "content": {
        "cell": "9ff5d9b8-7bbc-49b9-9b4b-1e5c50be9f8e",
        "part": "whole"
       },
       "id": "656406f7-28fb-4ac8-9b52-5a9cec5ec1c2"
      }
     }
    },
    "7ad86f25-17fd-4497-8ca6-08c1f392b8b8": {
     "id": "7ad86f25-17fd-4497-8ca6-08c1f392b8b8",
     "prev": null,
     "regions": {
      "b2029abd-4c4e-4ccc-83e9-11357030bd5b": {
       "attrs": {
        "height": 0.8,
        "width": 0.8,
        "x": 0.1,
        "y": 0.1
       },
       "content": {
        "cell": "ea79c928-fb00-4af3-9e1f-a77737ba7403",
        "part": "whole"
       },
       "id": "b2029abd-4c4e-4ccc-83e9-11357030bd5b"
      }
     }
    },
    "aac842e1-faac-4348-b88c-f1bb343f10d7": {
     "id": "aac842e1-faac-4348-b88c-f1bb343f10d7",
     "prev": "451ef65c-6a06-43d3-a6eb-3b5ce337b15e",
     "regions": {
      "5a500332-b6c1-4f3d-a856-e2922af763b6": {
       "attrs": {
        "height": 0.8,
        "width": 0.8,
        "x": 0.1,
        "y": 0.1
       },
       "content": {
        "cell": "7836ffa5-bf8e-4ccc-97fe-d4d39b0dd035",
        "part": "whole"
       },
       "id": "5a500332-b6c1-4f3d-a856-e2922af763b6"
      }
     }
    },
    "b7655ff5-d111-4556-8b36-c8537807b149": {
     "id": "b7655ff5-d111-4556-8b36-c8537807b149",
     "prev": "aac842e1-faac-4348-b88c-f1bb343f10d7",
     "regions": {
      "74ef9978-26d9-488a-a7bd-6f2145b74d11": {
       "attrs": {
        "height": 0.8,
        "width": 0.8,
        "x": 0.1,
        "y": 0.1
       },
       "content": {
        "cell": "1a7c0ac2-06e1-45b7-9628-ba6669acd0e8",
        "part": "whole"
       },
       "id": "74ef9978-26d9-488a-a7bd-6f2145b74d11"
      }
     }
    },
    "ebf8bc14-dbf5-4e84-9a38-3d8fb76885a7": {
     "id": "ebf8bc14-dbf5-4e84-9a38-3d8fb76885a7",
     "prev": "7ad86f25-17fd-4497-8ca6-08c1f392b8b8",
     "regions": {
      "9dd9d402-85a8-49bf-bcc9-c84c4856efbe": {
       "attrs": {
        "height": 0.8,
        "width": 0.8,
        "x": 0.1,
        "y": 0.1
       },
       "content": {
        "cell": "1b68d7d5-f6f6-4ca3-bd35-10806001c798",
        "part": "whole"
       },
       "id": "9dd9d402-85a8-49bf-bcc9-c84c4856efbe"
      }
     }
    },
    "ffab8dc4-5af4-43d0-8bab-9096bd467abb": {
     "id": "ffab8dc4-5af4-43d0-8bab-9096bd467abb",
     "prev": "13271923-8af7-45ab-a922-35d1916bce7a",
     "regions": {
      "83db9e11-3abb-484a-8253-b876538a7d91": {
       "attrs": {
        "height": 0.8,
        "width": 0.8,
        "x": 0.1,
        "y": 0.1
       },
       "content": {
        "cell": "18cfeea2-88eb-43db-9e03-c62152eaaa74",
        "part": "whole"
       },
       "id": "83db9e11-3abb-484a-8253-b876538a7d91"
      }
     }
    }
   },
   "themes": {
    "default": "f67ccae3-c1d1-466b-8760-08ea3c7b7dac",
    "theme": {}
   }
  }
 },
 "nbformat": 4,
 "nbformat_minor": 1
}
