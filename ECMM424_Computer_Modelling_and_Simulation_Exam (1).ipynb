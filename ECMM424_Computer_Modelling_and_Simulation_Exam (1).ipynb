{
  "nbformat": 4,
  "nbformat_minor": 0,
  "metadata": {
    "colab": {
      "name": "ECMM424 - Computer Modelling and Simulation Exam",
      "provenance": [],
      "collapsed_sections": []
    },
    "kernelspec": {
      "name": "python3",
      "display_name": "Python 3"
    }
  },
  "cells": [
    {
      "cell_type": "markdown",
      "metadata": {
        "id": "B1mTqPZAdo2z",
        "colab_type": "text"
      },
      "source": [
        "<H1 style=\"text-align: center\">ECMM424 - Computer Modelling and Simulation </H1>\n",
        "<H2 style=\"text-align: center\">Assignment 2: Markov chain </H2>"
      ]
    },
    {
      "cell_type": "markdown",
      "metadata": {
        "id": "5JAMLYP-do22",
        "colab_type": "text"
      },
      "source": [
        "| Date set     | Hand-in date |\n",
        "|:------------------|:-----------------------------------|\n",
        "| \n",
        "30th April 2020  | 18th May 2020 |\n",
        "\n",
        "\n",
        "This assignment is worth 70% of the total module mark.\n",
        "\n"
      ]
    },
    {
      "cell_type": "markdown",
      "metadata": {
        "id": "duvS5Bl_DPXC",
        "colab_type": "text"
      },
      "source": [
        "Candidate number:  <font color=\"red\">*660028124*</font>"
      ]
    },
    {
      "cell_type": "markdown",
      "metadata": {
        "id": "K38iURxodo23",
        "colab_type": "text"
      },
      "source": [
        "### Submitting the notebooks\n",
        "\n",
        "Note that an electronic submission is required.  You should also submit the notebook electronically at [electronic hand-in system]( http://empslocal.ex.ac.uk/submit/).  You just need to submit the single .ipynb file that is the notebook, so you should be able to upload it directly from the directory where you have saved it on a University machine or your laptop.\n",
        "\n",
        "<b>Note: you must also submit your cover sheet and E-Submit receipt via BART to complete the submission.</b>\n"
      ]
    },
    {
      "cell_type": "markdown",
      "metadata": {
        "id": "EAwd7UT0do2_",
        "colab_type": "text"
      },
      "source": [
        "# Exercise 1\n",
        "\n",
        "Consider the Discrete-Time Markov Chain as shown below. Work out the following problems for this Markov chain.\n",
        "\n",
        "\n",
        "---\n",
        "![image.png](data:image/png;base64,iVBORw0KGgoAAAANSUhEUgAAAjQAAACqCAYAAAC6eNUZAAAgAElEQVR4Ae3dB5Q0VZkGYBTEXdE1Cyvgoig5iEgOoiBBAUmS0yIgoiI5rJJ+RQmSkaAkyUEywkqQIFEkCYIkUVFXUZYgIipu7Xmu5441/XfPVHdX93TPfN85NdXTXeHWW1X3vveLMxQhgUAgEAgEAoFAIBAIDDkCMwx5+6P5gUAgEAgEAoFAIBAIFEFo4iEIBAKBQCAQCAQCgaFHIAjN0N/CuIBAIBAIBAKBQCAQCEITz0AgEAgEAoFAIBAIDD0CQWiG/hbGBQQCgUAgEAgEAoFAEJp4BgKBQCAQCAQCgUBg6BEIQjP0tzAuIBAIBAKBQCAQCATaIjRPPvlkccoppxSXXnpp8dJLLzVF7/HHHy++853vFOeee25x/vnnF/4PCQQCgUAgEAgEAoFAoJcIVCY099xzT7H88ssX6623XrHssssWn/3sZ4u//e1v07Vt2rRpxSKLLFJstNFGxSabbFJcd911020TXwQCgUAgEAgEAoFAIFAnApUIzf/93/8V22+/fbHBBhsUL7zwQnHzzTcX73nPe4pbbrllurbsuuuuxb777pu+t18z0jPdTvFFIBAIBAKBQCBQIwLGn5/+9KcFy0Ir+d///d/igQceKH7zm9+02iS+HyIEKhGaP//5z8WHP/zh4hvf+Ea6tGeffbZYeumli9NOO226S915552LFVdcsTjhhBOaEp7pdogvAoFAIBAIBAKBGhEwRu2+++7FSiutlJZjjjmm+Otf/zrqDHfddVex9tprF8stt1wazy655JJRv8c/w4dAJULz4osvJjNTJjAeFgQHaWmUq6++uvjc5z5XbLbZZsU888xTHHnkkY2bxP+BQCAQCAQCgUDPEDjxxBOLBRdcME2qjVtzzTVXceedd44632233ZYm5b5HbBZbbLHilVdeGbVN/DNcCFQiNByA+c9kDc1zzz2XWO23v/3tlldL3bfnnnsWiy++eDwkLVGKHwKBQCAQCATqRICbA1/PffbZJx32L3/5S7HUUksVJ510UsvTHHTQQcVCCy1U/P3vf2+5Tfww+AhUIjRuMiffDTfcMN3wG2+8sZh33nmLe++9t6C94TCco55+8YtfjFz1jjvumNR9I1/Eh0AgEAgEAoFAoIcIGJM+8pGPjFgHmJrWXHPN4uCDD2561ueff75Ycskli912263p7/Hl8CBQidC4nB/84AfFwgsvXKy11lpJ63LAAQekq7z11ltTVNODDz6Y/t9qq62KddZZJy2LLrpocfnllw8PGtHSQCAQCAQCgaFG4E9/+lMiNIcddli6DoRm9dVXL4444ojprouJaYcddihWWGGF4ve///10v8cXw4VAZULjsh566KHi7LPPLq6//voRB6tnnnkmkZ0//vGP6crvu+++4owzzkjb2T4kEAgEAoFAIBDoFwLcHTbddNNi6623Tqf87W9/mybjF198cfr/5ZdfTpYGlgdpRpZYYoni0Ucf7Vfz4jw9RKAtQtPDdsShA4FAIBAIBAKBWhBgGZhjjjmKAw88sNhiiy2Kj370o8XTTz9dcIlYbbXVkpvEBRdcUMwwwwzFqquumrQ3NDpjhXjX0rA4SE8RCELTU3jj4IFAIBAIBAITgcB5551XbLPNNsk35uGHH05N+PWvf53ypD3xxBPFDTfcUMibtssuu6REsXvssUeRt5uI9sY5u0cgCE33GMYRAoFAIBAIBAKBQGCCEWhJaNgh/+d//qd47LHHUj0mNZnqWhzzqaeeKiTsCwkEAoFAIBAIBAKBQKBbBFoSmt/97ncp1E3NJony6lyEcwsBl4QvJBAIBAKBQCAQCAQCgW4RaEloHnnkkWLllVdOmpRf/vKXyZmKQ1W3i2NZ9t577+L000/vtv2xfyAQCAQCgUAgEAgEAkVLQqOo1/rrr98ziOQEOPPMM3t2/DhwIBAIBAKBwNRAQNFk4dksC3UujqmAZRRZHo7naExCs+666/bsKoTIBaHpGbxx4EAgEAgEpgQCcqBtvvnmKUFena4RjsXlwrGvuuqqKYHlsF9kEJphv4PR/kAgEAgEpjACv/nNb4oPfehDxU9+8pMUdi2ha10LS8Vee+01Zh2oKQz9wF16EJqBuyXRoEAgEAgEAoGqCPzqV79K1bKrbt/udooyn3zyye3uFttPAAJBaCYA9DhlIBAIBAKBQD0IIDRqDPZKjj766CA0vQK35uMGoakZ0DhcIBAIBAKBQP8QCELTP6wH/UxBaAb9DkX7AoFAoGMEJAgNmdwIBKGZ3Pe3nasLQtMOWrFtIBAIDAUCf/jDH4r9998/RagcdNBBxbPPPjtduy+88MJiq622Kj7zmc8Ukn3ed999020TX/wTgRtvvLH49Kc/nTD97ne/WzSSRZj/13/9V7H99tsXn/rUpwqRrH/5y1/+eYAefQpC0yNgh/CwQWiG8Kb1uskPPPBA8f3vfz/lX2g8l07s5z//eXHHHXcUt912W3HvvfcWL774YuNmU/Z/ZT2uv/76lDyyGQgG1nvuuSfhd+uttxaK5YXUi8Df//73NKB+5CMfKY4//vjigx/8YKHwYKOowqzy8pFHHlkcfvjhqcxL4zbx/z8QQPYWXXTRFPGDKM4999zFnXfeOQoe/cb8889f7LnnnsUhhxxSnHvuuX3J3xKEZtRtmNL/BKGZ0rd/+os/5phjiuWXX74wGHz84x+frpN/7rnn0qx2qaWWKtZYY41UzVaNr5CiuOiii4oVVlgh4fLhD3+4+MEPfjAdLN/+9reLBRdcMG0D4wsuuGC6beKL7hCQ5XyBBRZIhNuRvvnNbxaLLbZY8dJLL4068Cc/+cnilFNOGfVd/NMcga9+9aupT8i/rr766kkDlv+3vvvuu1N2eYnt+ilBaPqJ9mCfa1ITGrNlJRY+//nPt0yM9J3vfCfN3swq9tlnn0JZ+akqP/7xj4v55puvOOeccxIOBuedd955FBxyPiAyZ5xxRipeSsPw8ssvj9pmKv4jm+iSSy5ZfPnLX07lQTbZZJOmoaRf+cpXio033jhpZpQAQRBD6kXgv//7v4uFFlooZY51ZBqz97///YWBryxMTbZbZ511CvelmVmqvP1U/rzDDjukxHUZA/9vvfXW+d+0RiRpaJB5z/8VV1wxnVlq1A41/ROEpiYgJ8FhJi2hMUtYccUVk733i1/8YnrRrrnmmulumfIOq666arHvvvumGQdzylQVuRaWW265EROSWdlHP/rR4q9//esIJCqw67AOPPDA4oc//GHxpz/9aeS3qfyBfwGtAHwI/wyDqCymZZk2bVqxyiqrFDfccEMy3ZV/i8/1IHDllVcmLdjTTz+dDuje0NAgkGUxAPMFOemkk4r3ve99yf+DuSpkegT4xMicm0UG3S233DL/m9Y0YDfddFNx+eWXF1/4whcSps20lKN2quGfIDQ1gDhJDjFhhObrX/96cdZZZ/UMRhoEtnM1PsgnPvGJlMa68YQbbLBBcd555zV+PSX/50eA3GWfGAmlkJeyqt4A/aUvfSlpaZZddtlEeGTTnOrC3MTHIM/yr7322uIDH/jAdD4yBtu111474bbwwgsX3/rWt4pXXnllqsNX6/Xz7Zp33nmLRx99NB2XWW/xxRcfk3zvt99+yaQS2sbmt4IPEk1WFuY62u9WwhmYthdZ7LUEoek1wsNz/AkjNAbPs88+ewSpRo/5kR86/OBlW2+99Ub25n3vJWwUhEZnJ9qBrX0qd2gSSK200kojHb//EZxmkQq+4ztDK0EDNtWFep1vDNMTMfP3XGWCU8YHgUG0DzjggDTwMuOF1IcA0r3MMsukiBzp8Ndcc81iu+22SydAKPnNKDp42WWXpRT5t9xySyKfTM5190P1XdXEHonG8V3velcBP7i9973vLeCGTIgiY3pWbsDvtNxHHXVUMc888xQc33stQWh6jfDwHL9vhEZHceKJJyYveQPgyiuvnLQmTD38V+p2jtxll11GERie+WWCk2+RaB3Eiu+Dl/TQQw/NP0259aWXXpqiF7IfkaJsVM3unQHgz3/+c4payKTP90xUBoKpLg8++GDC7rrrrktQeN44/cLo+eefL5555pmkiSlru5j4aBIi0qn+p0eUHpOzGj+e46eeeiqdxPst9BiJZDbhJ0bTKGw7m6jqb83wH9EEhhZLMIDluOOOSxd11113JS0uf0V9qQkRzAUW0JL3w4QXhGb4n6+6rqBvhEaDhfLNMMMMTRczgDqFjwftQhYd1n/+53/mf5uubcPhdarK73//+zSbZWbS6fMB0WHp6HVinCsNvvyOdG60W8wqtgkpkhZgkUUWKXbbbbfCOmsgkfbNNtssab6+9rWvJWyReCp5fkr96PSn4v3h+5U1Zvn6accy3j57tsMxO6Mz/ppmMZukbQ3Dv/3tbyM7Iuz8yJppdUc2qvlDrwmNyM+Ihqv5pvXocH0lNAZDM9JGUsPx1Oy/TuF0OccccyTVv+gdAwx/BWKgkUPBy8lh0Asoh4IoFQPNVJYnn3wyJcRCWMy4CA3DqaeeWvhNh3XCCScknKia4RbyDwSYl/gd8TFicsqCCF5yySVJW3PzzTcnB3RaLSS+PBjk7WMdCAQC1RHoNaHxTp9++unVGxRbThgCfSU0rpJttUxoXvWqVyWv+LoRMHMwKAvLRFR23XXXNENmApBfhcqUrd3Mmdp5iSWWSH40TCshgUAgEAi0g4B+pQ5BcGmN+KGIwnr44YfT2mTC9+WIwzrONxmO0QtCI1CEReGII45IztAbbrhh+uw7AQBTWWjomGy5JggI8YwyOYoibNSI9hunvhMaF01bkknNxz72sZFIpF5cPNu5pdzh0DhkPxCfdRy/+MUvItqkFzegx8fU8XNO5KgoMyntG82HEH3ZTRvDpnvcnDj8FEXABIpWmDauE6FFpgVgKpc3S0i0QZTfn2AG/wub5khOWyrbdMg/EKhCaGxz++23p9w4yIp+4vzzzy+uvvrq4kc/+lGhbENZEJk8RjWu+YJONWFB8Xwfe+yxKb0BlwTKAG4HnlG5tbbZZpukODj44IMT6ct+a/3EakxCI9R5PNFonu00Hl424X177bVXcrJl4vGCN7I2jnkekte+9rWFxHbDLnKx6NA6EcSKaYcDHf8KpggYMlt4qQzOGPBkFdiVyWaV6zQ74FC70047pUXyP07g1nnxv1wYHD9p6ryMk1HM2MuOxpPxGoflmhCO173udSkBXdXoHiZI7/u2226b1meeeWZx//33T9dn8vNh3pX0Uv9qe1rnTgnUsGBapZ2tCA2NFpKoT9BXtOonfI9Eug+0L/x/THRFcDaSGX6FfA2niuhfjE0SKSIx8mhdddVVKcK13O/QLHLdkDKBzxG8PaN8BH/2s5/1Da4xCU0570C5RdisF0sEjHooBl/1UAwyHiCLEGi5ZvikYG8GF2zYjNny7ne/O3nC1+07U25nvz7rvOQWQT6qqISRGEnpDLRmYbDBavmmnHbaaYX0+JzQsGEzNg8GNow09vPh6Ad+srrCzrMxHinUcXmhZCEVRXTxxRcXootyrqFyezl+8tniIyUXRs5sKunXZPJb0fG6NmkJclK/Mg7xuX8I6AfzADjbbLOlIIRWDvOeZffMe03j0u57TaOM/Oh/9bGTMSGoiQ6cxiMQjYSG24CB1LjjnuiXaWubpVDwdCA+JpXwRBLdE+ObifdMM800ck/dW/3zVBFkWzZoRF0/3ayfHQsLmi+TdBpGWq1+OIq3JDTCTKnxy0LTYnAwCIvkMDtgQioztfL2PgPBy2rwwfCoTjlMGryBNBkEDlnjpNidnCStbr4XRzSVlwYBZO6Ca468aMTDQ2Cg0jFywvVwGNTZ1CeD0NDBzswWgWYqanyeEB2djWvXUcl/0wqvVpjAGGnygpqNwX0yiOds6aWXThhKOyC/k8Fu2IQN3v0Z5sXzmQlNXr/xjW9MpINZNGsiDRTrrrtu6uzHG6zHu48mlyaO3h2h6pNNPM/yO5kkIx7NhJVA5CV8pf9gBpGGg39Hu5MXGmN9LbK51lprFW9/+9tH7qn3rN91qppdb6+/M+aYTHtGBTN0q3SQn0iZEeN/r/FrSWgaQaNKMhugnsN2OxUZVIVPMwVMlkEZEzUg507MmtbBYJ1LAxh4EBJkkAqv04fEbMSg7qWtO3dPp/e0m/08D2XcZpxxxmKjjTZKZkzH5YCmc5FLBM7dCg2aqAXm1MmirpeeoIwhVbnZZbuz/m6x7WZ/mjM2+GFeyr6B5fsx++yzp8hB+CA2Ev1973vf6wau6fZFZgy4ky28+LDDDht5tgVvuL5GFwakUM4nWlv9BF+ZOsQ9UjLDveQeMVV8Z1gLJJqts/8wKeVCIeeTZJe9kkqExsBsBsCJqg4xA3dxtBTMK/xGPIjDugg7b1RN5g7NNapvQivDr6OxnkyneCKYGDTiROvlARxG/CThyliV1695zWvS84HZ77777smm3SlWzfZTY0YOHbgNK3buN/LHvFHGLn9GbCaDj1qz+zeI3xlQM/bW73znO5PJg8MvobkVTVnXgNuIAVLjfcpROAYRE6dhXgyuZUx9lrTv+OOPHzFF0VK99a1vTX4bdecUUj7jHe94R0oBwrxbl7gnzFdcCprVGKRtojgwefVccVHoh/AjMtY3OknXdW6aM5qvXJakruPm44xLaNgSXaDS8HULMmP2QmVqgKaKHcaFE9S//Mu/jHrxaGyEh/Mtog41Y25X/Tke3tR3Bi0p9mWoNfsbNvy8sEL3y50WNT3T3Xve855E0nple0U0zaqVyRjW54/ZFjEr4+fz3HPPnZz0J4sWdLx3YRB+Z8qEPSJjklY2azJjbLrppuk97WVb77333qQFNhgiOPqgYV5U7258tv1vAsn3kLbGpKcXuczyfTL5pgXNRDF/3+kaWeGXIsu6tZpujfUEaZ1cFz9V2nhJODmL91K4kzhnr0uxcDdxnjoJYsZlTELDm5mKSMffK+FPY5ZZl+aiV+0c67iS9GVCM/PMMxerr756oYwAP6Ttt98+ec+PtX83v5mR8Cg3YxlGMSDnDmuWWWZJIYAceREdSxUn626u20Cj0xhGvxPXzZdI9e6MIYLGtBkOwt08Fe3v6z7IscVPgD9QWZibmev7ZSLm+8hx3jOgf+AMO6yLGX1+tvNa0WGTYGTGRFH/V85eXMa+js8IiJwrNKJ1aDwRE0TNBJRwv0A6yyJwJGub+Ai9+c1vTn6o5W3q/CywRfh1v/pBkXr697qlJaGhJsUMe6UaKl8I5stZEwEYRuEH8q//+q/JNu6Bz5oYNau8cL0WbJ7ZieP1sIlO3myLb5Hwf0JbokNu5QRY9zVS/SI1OTdR3cfv5fHMchRi5BAs6Ve/OqReXtMwHhuhaXRmz9dh5svc3K4je96/k7UBg2PnsAvikokMcx1teHYsNdGm/c7/9/pa5f7heycooRs566yzCqQsT9Y4PFMcNGqiEVK+ZUiyGlm9yuuiD1G8tV+EG3buGUVGHX6R5XvRlNB48VwgoPslVLS9YGz9aD/nKZqmsgrNg0jFnFl2r9vBxsqnZtg0XXLs0NJkJ2kzSU7j5dIBvcaOrwEfJ4n5hk3MTOE3mXMVDds9KbfXZMOgK+Kmn8LUaMbdq0GwX9fCKRhZp4EuF3HVrxqjGiNxe90uLgRqs3Uj8rNx4NbvEL6pJiWNkbE0OPz7Zp111pTtvleTFQoFWGaC1c21tbMvYqffrVOaEhr2PDauRsZY54kbj2UgRgCYAIZdOFTRmPQ7mZvZDAeyYZb8cvX7GrJWqNUsu9/tqXo+6vCQwUXApFCU3kQIh9NhjszxbMuvUyYyGcecgiH/3681MxeCWvaPavfcJk4S9OVJnJxtKsM30+Dpj1w/R2g5cuoWUbgil7lI9FtoaWjG69TSTEdoJL0TOll3WGEVsNigvYSZuVbZZxC3MShLdtZv8eAz3QyrIyiTD8fKfmpn8j1ybh3GMJrt8jXEerAQMCAzpXPUnwgxORRlOez9aTPsONO2008wTzVqyfg+MjebeDYjE83O6zsJTr/yla+0+nnc77VDYlnlF4y3zFh8LYk8ZQJwJAc0yaJUMEEW+MFsWbfIPk2R0KgdGus8iIiUF9qehRlOOhIuF41h9XmbZmsuGXW6ZUxHaISQcVLqpZNVswvzHdMNFRsHrGEVnQftVrNQvH5ck4eDV/4wilkPQtaJlsTg0a3KVAfTi1nQMN6LaHP3CHAOZj7tl49HY4uZb01OJTabTMKMJolhlYFTxA4NBLNNeeCUMO7DH/5wil5CLvSZVbWdNAochHOOsU6wlUF33nnnTflzRHRmR3L3y/hrLGQyXHnllYullloqbdepVqhMPBrbKoqZr2cVgY9AIb5MzIDZl8hEeo011kh9t7w9/B+rYsNc7v7UxTemIzT8WGhKOhFM0kV2M7CwqfXbLtrJtbbax4NoUK56QxuPw+aeVZGNv1X530zESzGMszK25E7s0/J6sAErdKqcRJWOrhmWnP48f1Op4roZIG2sMF/XzTHbe2yWmLW0nmk+YQZIs0YzWxh7T9n1zW7t59nz3Jn1cTC0/VQWs1X17ao6m8PdoMufMPvemTkzG5kktftcCk4Q8YaoTyZBRvQTVbQqtDhMfogBXLPwOZPgzXNM2yPqqKqWQh8tZLwb9wjkwHsiuqgcDIMcIGF+l0TVO2Wb/Dzk9rezFimmfE4z047+kkWhinifPU8mfaIplZ0hyIj+w/1gupK2wLVVESZFUWqN2rMq+zbbZhSh0WAlDTrx/dDhCT2TsZH6rNOwUXVNRGtUZcvNLmoiv1M3pBM/Fi+WNN+837vJYGuA8YL2Mhtjr/BlbuwkeSPc1GyxltfIINKJuAfUur1KfNZJm3q9D981WVBpEjgriijRKcnr8aY3vSmd3oAgVxDSYrYoIgPZsa19kPc3vOEN6d2nXUMK/Yb4TGUx6xeVU0XMopmp5Q9acsklU9I4ExsDzjzzzFP8x3/8R0cRp/wzDEKTSWg3jBNVJJMez7eaV83E957pqpphRFFf1Zg7ptmxB+E7GhDvo/xeiFg5SR+iU7VyuzHZYmxhAiuTFoQLYUJ2mNDKJG0sDJB9/YVEp3XIKEIjRNtLhSW2I1jWoosummoMaRj25oZ3IjpBA3I3WopOzlvXPmyr6g61K0cffXSaRRiQOxnU8/nMuM1EEMxhE1oWs5F2pawRlDlZuoFOxMuK0E+Eg1wn7a1jH2REOnl+HrSrBkAzQ6plUQiEtsb3Jim0Mma9ZpEiPvQZBg3Or/aBoXsoeVbVTq2O6xjEY1DlVy1FQDsgOabtOYDSxugDJceDKyLZiemIA+pkM6Pys2u3fxOkIZS9UaQnmWuuuSoTpLy/6CuE1bNvyYN9Xet8njrWMq0jNHn593//9+SrSMOkr/S+tyPy6EjmWSY0+sxcgoWjbzsWApyDk3cdMorQ6Lg4sWVWW/UEVFa8trNaTLpqF9cJKUGmVEkdy+5XtV0TsV2n/jPU+gYHqcu7VREjk2bOwybs4p102vk6vZgK2SGHnYqXPw/knR4j9gsEIOBZkg29HTEwCOktDzIGDjPiTt4NZi8+GZNJaFvk/mpH+GaWTU72RcrVh9JnIyLtCOLJB0Yaf5MoC82ErPoWKTT4wFiQBov+zcIlQQ4Wi7GOzwnHXAsn7lzCRjJGRMyi/cZm127hVoA4WGhZTAYtrCPy1iAJrsu9p2zIZKa8lqyP9o9muh1p9jzSbvEDosWV4b2dMUx72yWordo7itCwjwOzXVHsT7bSTGC8xGYUndjQERkPRyZH7bZloreHXydaBu2GF9UnR61uhJaoUz+obs7b7b46gU4TOZoRePERwk6eu9z2TgahvG+sA4EyAgbQqqaRvB8CIidJWUtuotkpoWEW6UV0TG7vRKwN5u0SmkYNDW1j1uZ2Mnk2aaLxcRz3yoKEclhmxmX6t7BeiDo1YbUIeKEJNfhb9HecffmQWPj2IK7MOnxULAiEhWbEwl9FiQumIovng7mHxsXCpMTSYfE90lQmMj6zBCBQtIF8gtoRWi0amuzWYP/sYqLvnXPOOVMm56rHRGhoIeuQUYTGQNwJoaFe5juTbZBeYnUqyonmqjaWg5FqtMNKaDwknfpgyIyL0HSb4I3NfBgjncxUciG/qs+L7cyuqPd53+tAuhGEplv8uzl/7Dt5EODgK8S3HWHS03eWBxmDGd+6HFXSzvFoEjo1/7dznn5uyyekauCISTpNhygn0UzIHR8Ykz4Du/wvWVPSjqbCvR2WTMxMjpnQwIFLR3Zopt2p2udSWDAzU17wu+Nnp+Aq4uQ7miPPLgfsqs+qe0GTxPm5DhlFaDA7qq12xUUJ48pZaj001Grtmq6cV4gjtVxVj/N229rr7an92L07EQQQYzZL60amTZuWfBi6OcZE7OtF68QhGoFTS4szuQ5MLodOnj0vl5e/rtnCRGAY5xwcBGhHRJiUfbxatQ4pN1Pn0M6nQ5/KB8nsnvnYrJdvXjuRTrSW3ol+ZnxvdX11fo9MVDWpw899YNJgzkOE4EIbwm+Du4Tf9bnZwjBeW91P96kbX8fxzlHn78xOHIL5B9LulIXDv2etirhuxEMEIz86a2QbbjRmLDXM9e1kp6bZ4hOVtT1V2jHWNqMIDXUXG5zwwXbEBZgds/9hcCqDVg0FazwPlZo2ZG1P4++D/r9om04edGSS9/5b3vKWpArkINiJeFlpK0RbDZtwtGtXRe8aPS+eP0VBaQrNFDrJa5BzVjS+9MOGY7R3MBBgLqjan3LO5iPBZMpcL6+Hd9jkRB0f38mb0k7AgQmS8zNPTCYxADPn6esmQpBKk69hwdUEu1Wfhux6xiZKTGBFXnVizWnW5lGEhsmDdsXg2q5QYbFtMll1o7LH+qhIJ+phbfe6G7f3gJgVtSsw4+DFnkgNaBbSibBluodZpdjJMSZqH6HAOoqJEpE+1BzA0X0AACAASURBVJ+d2NQnqs1x3sFFQB+mP6zan7brmDrelZs985/oZwmb8dpUx+8IhfIDZbNcHcetegwaYPe1an6hqsediO3431BEVNVO1d1Gvp7dZF1ubM8oQkNNL4eKEM2JEj4MVIDDKjoRDzvzxUSIztNMbxg1XNSPTJU0JRMh/B06zWEzEe2Ncw4+AtTwE5UHRm03uZkaBdEy8RnWSaPrYRru1ArQiEe7/8MUtpNBaEaYpNp1sq7j2jkQm8DXWRpkFKHRSLZEM/wqdt86Lqp8DBoiDlw5A2H5t2H5jLXzQ5ooDQkHbXb7YRQdLEJ90kkn9b35HAJpyDi4laXuWXP52PF5fARMskwSRIgMozDHC93N/oX9uga+iLQYOaW+85qFU/EzZ/GdGOZn23WYOHbiK9fNPYCraMxhrZfX7NqZMWnG+/088GnS59ZJrKcjNG6YAbmqmrQZQJ1+B9g99thjlCrPA9vvh7bT9uf9Tj755OlyHuTfernGtuUfEMrnhVcno98PabfXJzGjaKd+O4XzV+BvkIXToPD5cj6Q/Fus+4OAPkgWUanUu3WU70+Lm5+Fb5iMv/0UJWwsxIDBnCuaZ6aZZkoRLxNp2q0DBz5yNAvduDd00g7atonSuHXS3ir7GDcQi1zqpMo+3W6jf6e86DSAptX5pyM0NmTXwuD7KcK0OXMaiIn/hR4ff/zxE2a+6fT65R9gOukkEVan57SfQZlTrAdFWB1nq2ETGi6pyLtJjtfuNbPFZ80gVbyBgGP7u971rtq879tt01TenpYMkXn729+eBl/PctVIjEHETV/GT6FTR/92r8mkQKQoLYJEZ/qi17zmNSOhu0J4J0P2YBGNtCX6236ItCbO104UTz/a1e05jFPGWn1guwFBnZ5bAEyrUhSdHtN+TQkNxmaWnMlFNyeouq8wPNE5Xn4mB3kXvHgSIg2bhsY180MyC6pTndYKS/46Ovz3ve99KXw55xwYVn+QrCVs5ZnfCodOv+eEjvyZScs0nPHzmV9PSO8R4LhqgDKpoZHJ98B6lllmSX2CAXoYF1q+0047LdW6q5qfo1PERarSxCjgiJirsVXGMn+WzTVnuB3W9cUXX5xKRUiV0UlUYzsYG/Rl+51sKR34Icmd5rnkFyS0u9dCq8ZZvRd9a1NC44Kon9zAfniSC9VW2FIFVVkyX/3qV4+8hMM8k8BAe6kSRWTcJzOwmWeeeQSz3Gmx3VPVD9vCtorIKtLX6wGA+pgmoHEQheEcc8yRigsOG37l9l5zzTWjTLi97qw6PT5fD9XS87NbXjOTCFvOaeWHcS1y0WDhXa1aDLBdLGkq4ESrTfyPrJdJesZVRGrOXjusaxNvImOvZ6JXflbIDAyr5r5JjRqCPzL6GyNEbRGBJMx4lm6yrY916WeccUbKet2rd6AlodEopicPfn5wxmpop79R4y200EJpFpZftvJaimU5B5jAhmlBzhBCmRl7RWo4bpuFlfEqf4Yd1f0wLrKBitZaeOGFe+ZgLQIFgVaDpYxb/qzWidnLMOKX2ywkst/+SJ32BYICZF+VbTTfA+vXv/71tdV66bRtde1HC0j7XHeHznHa4NSsGCYzqvp66u1lXId5oth4L5ipEUV5euqOkESS9OMTmaul8Xrr+F9EJ7Nko1sEIkNjp+9tJ3NylTaJXnZsCoxeyZiEhhp47733TsmeeuEcyaRgVuZh8dC86lWvGnnh8osn0ZTInRNPPHHoFmpmrF4WZdfQCxFCaPbHJkmjkHGzHtZopzJOudBpY/RReZt2P3uuJYCkmjeI6hCpryXmK+OHaDN/hfQXAQMwx3r1i9yPGWecccJCdHtx5TSQOnZJJLuNJrW/YArHG68gIHOd537uueee0HxPvcDUMfndGUcEQ3TrpgBXOcWYRiYqPLwXOMHFJJi/TKvIO9Fw3BVEkclT063oYyWchSXi3UsZk9A4sc6fhoRTW52ZEaVO5mCVtRdA9CAiOGZkeWARQj7sIs7edVEF15UfxkxERJg4/mw/NpugGeLMCj9ajskg/AFoUWhUujWBekHZ3GkwGmdzNBkGG47VHFEVcGucwUwGPIflGjgoemdobOqqxjso126WKiLRs6jfU+agHTGT5mScj6EIYVVR78z5++HfV7VNdW0HS/6f+kY19WRgbkfcB2b8jGsdA3o75+/ltsYeCoqq2asFmajXZAw24TPxa0eYPE3qTRwpLfrhcDwuockXgK1SaRpU2n358jGs+UTINUJF2MrrX70NMw4zM0yyW7ZdPv9EfeYjQJMiE22nxSu1XSfk4coPSbMXFrFhr3evhi1su9X9UefGiyWlANtvuw5lIj/MEuDmJRvrmeKbxNaL9PTah6fV9cb3/0QA0eyWyP7zaIPzybtp0GDW96wx8RtMDQSNiTm996Jr9JnHHHNM0rBwoJZaYDISk27ukgmevo8fnj6DdtykkuavsT+kiYE33Gmv+I/AVcb6xm27adNE78t8JEjFJHcsEzTSI4cabZ8xZN55502T4xVWWCH1n0ya0ik0ex/hzindBJSGhxLEMfqZAqYyoXFDqItk8uVXwNbdTviafdnzDSjMIx6uscSAoyYSDU7jyz3WfoP8G22XwRR+cLzxxhsrd0aiv3ReOj/EqBUZLF8/rddkeildmxmY2ZdOR2flxeOPwDTkenVQXlikDkZMVvCiyTJgtFKzlnErf253VlLeNz4HAlUQ8I56VvWPBgDF+nIJlPy++9+AxPfFbNd7MFn6xSoYdbKNAdbgKgcQ3OAHx1xihqaCJgbecIe/+zDZ+kxjrWsWRayPbCbcP5AdZvfGAIl55pknRSAyvdGWqi1m/IKf43pGaRpN1uHst9lmmy0pQJqdq5fftUVoNMTNFl6ZyYnBglpYOBsmhrgoR04L4WHi44Gp0bSwcXZiQ5tsDxiVLy2Dl4umSiQC8kaL4MGCEVWnlwsBMnDL+ilqCs69dNLu5cNW57GpzJFdz6FZFTWzSIe11lor2dERHnhxfpPWu50qxXW2M44VCLSDADIuqaM+1vuPuFj73+zXxCakfQRYFWSgv+WWWxKeBl7aBuMUvCdr/TZjDV8YE7uxCLAJYLNoOK4LyF4WfpkIterYtF6iKGm3JMij2aHtsn7b296WAn36bbJrm9DkC0MyOPsoJ05b46Kp+Dhl8Z7G2kQlce5j340XMSP3z3VW0dG8IDUYL8cp5AUJNHMQFYHE0IbR8ISMRoC63SDAPktLg7h4LvkY1OWvNPqM8V8gEAgMOwL6VhG2k1kQYGOxgJoqYiKd879lH9Z/+7d/G5WPzpjeLJKufHwTzLy/aKl+SseEpp+NjHMFAoFAIBAIBAJ1IcAXj/ZrsgpriUAKk+V2hNmoHG3MKbjsp4nQjEWQWGfe8pa3jBAaiR1znpt22tHptkFoOkUu9gsEAoFAIBAYSgSYpJlKJqMwsQuqaadcCNIiQaGIZu4QmZSwvpRlPELDypC1M3nNHaBfEoSmX0jHeQKBQKAvCDA18pdolUPI75zDRbBZ6k4g1peLHICTGAT5UowV4MHVgCljrG0m4lImK6ERAUsz007ZIhFL/Dn5HGYzvcgwSU35xJRlLELDz0sy0kxk8loKDGla+iFBaPqBcpwjEAgE+oIA50b+Z7LGrrLKKk07UpFxwlDlhlJyReh0SHsIIIKiNWHMLNFswMqJU0XGSJI4SAnqJiOhkVoFmWknTDq/LyKPG52GOfQ2BuS0IjS2U+BSjbBFFlkkRTnJki879fzzz5+SvDYev70nrtrWQWiq4TSltmLzFD0kQqhx9iosmpOyQmYWDmKtZsJTCrSiSNFUnLtFpjWLmpBLR64LLz7s+mlbngr3QodJ5b3GGmukSAszTk6Ojc+neyR4Qbi/iIx2cxpNBSzHu0ZhukJ8BXwI00VYGvOTScTKZGGAFc25xBJL9KxG0Hjtbfx9shGaXMpAxFZVESnKaTjX/qqy31iERkQVzegTTzyRctZIryE7tRxsNKJBaKog3GIbqfI5OAlZU6yvmbAVcg6zHa/3Rx99tNlmU+o7YXiLLbZYSvRllqsjKkdXUU+a1ZqZGTw84O3mdpmMgJr1m5nw8F966aVT9e7GF1geHGUw5L6Qv6HZrHYyYtOva0JcDJqSohGd+wILLJDCS8ttkNhTNCF1euQZKiNT7bNIQn2ErNqE2UmukrHqUyE29hGBOAjST0LDNKePbPasmSAigp5duJYdcKvgpI9RysA412geGmt/IdfSXOi32pFWhKbxGByHpWzpt0xKDQ01mhmDREHi79UuMVCXhYqMek72YzNmg007iQLLx5pMnzlwGWzhY/aakyrla1QuQK4X4foh/0BAR0XtLjsm0dF75jyHZVGWYqeddip/FZ9rRMBskIo7v+tmivqBRuKo9pGipCuuuGIyPbXjPFljc4f2UMKB5SzJYc8GUjjLl9NMpKeA9xe+8IVmP0/Id/0iNDRYyPOqq66aCj7SYpRFwcaVV145kQsar8Zntbxt42fkhxMvbVmjFrJx2/L/nnd9OE17u1KV0CCwzFj9lklJaCTwW3755Uey8FKrmTmXxYBNNZ1nGeXfpupnAzPfAkXziGzNSy211Mj/vvPi0NysueaaaQCXqGqqi4FTIcsbbrghQcG/gENdIzZe8Pnmmy9FEyitoKMPqQ8Bg8Wiiy5aXH311emg7guTU2M0C42jvEW2N7CpSt9s9lxfyybXkZhOPcdm+QSOiKTEoM1EEjtay14UOG52virf9YPQMDsjK3Ky6RsQaFrtsiAINN5IODJTVcvC2drkyKS9nRxvZ511VprId1rstyqhUXoiCE35TnfxWZI/DmtZ2NKVXGgU21CDUr3xaZjqA4xkdMsuu2xh1pCFQ1+5UriOnwlPxkiJFDmB5QEk7zPV1gpYMm3kGSv1shmr8MmyiPbwkguPVCNFZzRWTanyvvF5fASo7pETtY4ILaL7Anc4e3ZNZCxZvvWtb6Vt2lX15/2n4hoZ9Hxn3wtZYj3PNJISXWZyCPNDDjkkkR1mqUGSfhAaTrWIH40WkdmcSbTsa6QvQHLaGXuY7WhllDLIUUnjYeuZ917wHeum4G5VQuPZYArrt0xKDQ3VJptiFjehGaHhwIQVU4/NNddcxaGHHjqqs8v7T5U1e65ZRO6o/O8FbBUFosP60Ic+lAbmqYJRs+s0Q6WCz6YOvlj+HyvtN/8tg8AgzVqbXdswfafTZvaDPfs9TSLNrOeUep152WDCDK2zpcml0eHUGtIeAhyr3/e+9yVTver0/MLgrz9lype9W+kboburrbZauh8wpzUbBOkHobnyyitT/5lD1tXuQ7DLGJgs0m7lqLtGrW4jVvoaY5uxynNdRdRv4jfmmqtqgFodtyqhcV1BaFqh2Ob3bh6fhix8QrxwY4nCZTQ1VR+SsY41zL8JeRXOSl1qRuEFRPxoYfjP+F44JjFwm4HQbk1l0WEwX0rzbaZvMGXqECEm0oPmhpkDjupw2R7p1olFXa56nxzPJ/x13rRheTZMxY7IuD/qpvndQjUe2pn27wGNAt9DGB500EEj0ZBw9r/74LlnbrIglgIvBkVTo92Npsj2URh7D+TOhFC/SWiyGnO7wAnJ0KcKwNAnIIPNBHbtlDJwDP0L/I1v+V1oduyq31UlNJyCg9BURXWc7aS0pnER7WDWLA7ebCGr3bxoPMr5z7AHS0Jk4MZ6p7oYgNm7zbrMHGgSvJDZ2dJsw0tnAKfeN1toxyFtsuKrsxLlJPoLmfG8EZ0J05xBc++9904aLXb1Zr4dkxWbuK5AYNAQ6AehQVKY5AVXEKHVNODZTGQ8Kou+1gSxWX+qiOa6665bcGivKvpq5iz9TjsmrbGOX5XQfPOb30zEdqxj9eK3SWlyYsdlu8WODc4+07yYGTM9CVVDaDzUHjDbUDvHbPkfj5gXAenLtl94cnT1UsBROCwSyIM/v5y9eDiH7Zii5DhGirbJggxms5KOyu98O7IaOm8X60AgEOgfAv0gNMYTExxlCBARk0LuDd5/2ly+SAZ+C2ddkxx+dfrbsvDFE5WUJ0nl31p91l/Tto9XZbvV/q2+r0po+KbJZdZvmZSEJoNIndeovuMXks1KYvgNMkFkMmKxDgQCgUBg8iPQD0IDRQ64opzWX3/9EdO8yaAJNK2txKQ0LxZ+SY0RS6wICFE7pQwkzOMvhlQ0igkoXx4kyQS/UUy+TLpEZYlia9QWVSU0rquR0JggX3755aMmfOXzC6ZwTufmSyTnWbsyqQlNu2DE9oFAIBAIBAKTH4F+EZpukJTagYM1TXhVQQZoc3JyyfJ+fGhERzF5cxugJRLZmoUJbL/99kuaJMdAwnJoft6mKqGR+qNMaPhjipjlIC6StpGg0UoheaKOnZs/USeh5UFo8p2KdSAQCAQCgcDAImDAVXyRxsPg1yz8mIMtTQffvi996UstTbuDTGhcJ9MUB+B2nKjVyqLNydGWjTcSyRAB6JiyOstaXo5gRSq23XbbFBGF6AgPb3QpqEpolH+R2oMwuzOnHXbYYemz+yfwpHxsof5bbLFFMpE5N+1MMw1S4zU1/h+EphGR+D8QCAQCgUBg4BCQ/0qAh5m/7LvC8htrzfFFEVElAktE0Y477jjiYlC+oEElNNwgRIkJJBCiXVUQCGamsbQaKmqL+M2CMCGGWbhi0NrIFs8k1SxzflVCo1BmJjR8hqRHUNOJIKU0Mdm30HcIjXvqvsg4nSPDctuqroPQVEUqtgsEAoFAIBCYEARoD5hAJE0l/C1EBDWWrchJ/WwjNQLzSmNNNb8NIqGhkZAsT2RSo+9KuugWf5TtQQbGK0wpkawks1lggOSUhRYHMVKqAem47LLLyj+n2n1CsscTEVvTpk1Lmwlfl4gxEzRRyCJky/l4kCm5a/gScaS2fStN01jnDkIzFjrxWyAQCAQCgcCEI8CBVkRqdnRllvC/CKFG4T8i5416amWTSnm7QSM0nIERMEvVIBXkLSfMq6LRoH2RjyaLKKhddtkl/zuyZvLSBhHBfF7KUlVDQ1OWCQ1iQkOTCQwSygTVLMkfYuPeKgeBWLUrQWjaRSy2DwQCgUAgEOgrAlJGcCbNdeYMenJlnXTSSaPaYTCmsWBOeec735kG/MYwaDsMEqGhjeG7onitBJxVpBMC5PhSlNBYISw0MExVzp+T7pWjrDgQyzdWlqqERmoUvkyEz458PLkYJt8miW9FISNi7mUmUflczF7KNLQrQWjaRSy2DwQCgUAgEOgrArQRyqzk5KcGYLP8ZtE8uWHMHm9729ua+oIMCqFR/4opKF9XbvtYa74n2o+glE1sY+3jN+HcNCXIHqLCgRih8D+/HcIxlw8SbY5ks/yWylKV0JxzzjkjhAaBonmSeJSJy5opC9GkAUJAaWaYzRTcpDnivMxU1a4EoWkXsdg+EAgEAoFAoK8ImMHLur3MMsukEiJHHnnkiGOpAV5dLg7C6icpaSBxpe3Vm2qWz2QQCM2Pf/zjpIXItfOqAMpPxsAvYggJaFdkL7YvvCSXJXLD5NBw5iDOvBLy3XbbbdMdviqhUeBYXTX3jdD8IJjKIXASJgiNZIHaRDgLM1Mhdzm7cvqhjT9BaNoAKzYNBAKBQCAQmBgEEBfaBKYn2hoDMRHZI+KJ0ymTlAzxfpf3pFV23YkmNHfccUfbpQwM8vxKTj755Im5AUVR2SlYvTSEphPS1c3FBaHpBr3YNxAIBAKBQKBvCBggmUn4X2Qx0+c0TBtgYY7icDpWHpOJJDSSykke1xhBlK+n2VqtOCYiWoyJlKoaGqZADsvN/Jd62f4gNL1EN44dCAQCgUAgMHAITBShoVVCZmT0rSpIjH2yqabqfr3Yriqh4XuD0DQLme9Fu/Ixg9BkJGIdCAQCgUAgMCUQmAhCw4dknXXWacs/hHmJmenee+8diPtSldDIWqyMQhCagbht0YhAIBAIBAKByYpAvwnNcccdl/K6NCvX0AxjROCQQw5JET+PPvpos00m5LuqhIZWCaFRDLqfEhqafqId5woEAoFAIBCYcAT6RWj4kHzta19LtaWefPLJStfNH2jvvfdOhST/8Ic/VNqnXxtVJTScsYPQ9OuuxHkCgUAgEAgEpiwC/SA0uZSBBHVVSxkIPZcHRgZfjs9yx4gWEkqdSweUb9qvf/3rFIItjwyflXYcjcvHqfq5KqHRjnbz5FRtw1jbhYZmLHTit0AgEAgEAoFJh0CvCY1MvJLE7bzzzoUsx1UEOdlqq60SgZEx+O677041jRAcvjcrrbRS0aixURdJ1WykSQ2oM844o8qpOt6mKqHh/ByEpmOYY8dAIBAIBAKBQKAaAr0kNJL6bbPNNoUU/1VLGUiYJ8fOMcccM3IB6i4p1kgcc6GFFio425bF/8hOv6QqoZGgz/WPFTrfizaHhqYXqMYxA4FAIBAIBAYWgV4RGgUYpe6XabdqDpbbb789kZIzzzxzBC/5dNZcc82UWTd/qUxALlGQv1MeYM4550wEiq9OVT+dvH+766qERrsQmpdeeqndU3S1fRCaruCLnQOBQCAQCASGDYFeEJoHH3wwaVlENFWVq6++uvjEJz4xne+LKCcERomHLCpQ85MpiySDCnQiUExSij7KqNwrqUpoFKL84he/mBIe9qotzY4bhKYZKvFdIBAIBAKBwKRFoG5CoxYS089ZZ51VGbNzzz03Zf+98cYbm+6D6CAQWVQXL5uk8vd5rTaUCuMyEfdKqhIavj0ITVX/obraG4SmLiTjOIFAIBAIBAJDgUCdhAYhkck315aqAsAJJ5yQEublwozN9tlzzz2TUzAtDIIw99xzFz/5yU8KFbqdS3i3HDXMXPK9fOMb3yjmmWeetE2z49XxXVVCc8011yQyFoSmDtTjGIFAIBAIBAKBQAsE6iI08q2osdRKy9J4erWo+Lrws1Fvaiz55S9/WTAzKcb5/ve/vzj88MPT5meffXb6ThVxGqEPfvCDydS06KKLpuKcVX13xjp3q9+qEpprr702EZoXXnih1aF68n1oaHoCaxw0EAgEAoFAYFARqIPQKGUgCumHP/xhpcuUV4bWZYcddiiefvrpSvsgBLQ4jz322Mj2vhPijRzR0jzwwAPFbbfd1lPfmXzyqoTmuuuuK/bZZ58iCE1GLtaBQCAQCAQCgUAPEOiW0DDvCLPmCFxFEBhEBqEpVwqvsu8gbVOV0PDjQWjk4+mnhIamn2jHuQKBQCAQCAQmHIFtt922spmo3Fjh1CKKNt1006aZe8vb5s9CqbfccsuU7bfftY1yG+paVyU0qokr3/Dcc8/VdepKxwlCUwmm2CgQCAQCgUBgWBEQBv3UU0+lPC18UzbccMPkf+IzJ9tnnnlm1KVJiOf7skgSZ0BHhvivVBGRR8517LHHFsjQsEtVQsOnKAjNsN/taH8gEAgEAoHAwCHAzMN5d+aZZy7e9KY3pfUss8ySPr/2ta8tykntNB4RWXzxxQvOrYSmQeZepQyqah1uueWWdM5zzjln4PDotEFCseW9GU9uuummRGieffbZ8Tat9ffQ0NQKZxwsEAgEAoFAYBAR4MT7qle9qphhhhlGLSKIlBYoy2GHHZa2USfpyiuvLL7whS+k2kRVU/lLmCfTr/UwS6NWSfbfb33rWyOX5PfGbfz4gx/8oNhrr70KxTb7KUFo+ol2nCsQCAQCgUBgQhB4+eWXixVWWGEUmUFu5IQpCz+XJZdccmS7N77xjUnbUN5mrM+0PZLi3XrrrWNtNhS/iaSilVl66aWLFVdcsZhjjjlSPhyfl1pqqWRKa3YhtFMcoBtNec22rfO7IDR1ohnHCgQCgUAgEBhYBC688MJRWhpmpUZ/GEnsmKPKmhwDuAR3YwlNhUy+fGaEUk8WOeWUU0ZhkXGZccYZCwn0mgkyh9A0Vgdvtm2d3wWhqRPNOFYgEAgEAoHAwCIgc60SAgblV7/61cXxxx8/XVuFV+dBu7ymkSjngynvSKvz5S9/OUUzjZcwr7zfMHxmZlt55ZWnw2Trrbdu2Xx5cYLQtIQnfggEAoFAIBAIBLpH4IorrihmmmmmZFYS/VQWkU1KDJSJDKdhJpfdd9+9aag2h2O/feYzn5lO21M+9jB/lhEZZhmXd7zjHcX999/f8pLuuOOOYo899qicQLDlgdr8ITQ0bQIWmwcCgUAgEAgMHwLMHz/96U9T8cbZZ5+92HzzzYu77rormYdy5l2lBERBvfvd704RShLoMR+1cm6VMG/77bdPPjay9k5W4UvDLygTGlW977777oKvDAdgBAZOudL3Qw89lBLrVc2IXBduQWjqQjKOEwgEAoFAIDBQCAgbvvjii4tp06YVu+66a9KiyCPDXLLVVlulNUKyyy67JFKidpJcK1Wy+dLmSLAn0V6zSJ+BAqLLxsj4CyOEhqluo402Kj796U8XW2yxRSKG8ISjaDBYMzf5v98kLwhNlzc6dg8EAoFAIBAYLATkijn66KMTYZE75rjjjkvahMbwbK22rbwzopO+8pWvFJ///OcL4cljlTW49957U7XsxgipwUKh+9YgMnBUKkK0Eydq+XwkKWwU28KRlmu77bYr5p133mKnnXZK3zVu26v/g9D0Ctk4biAQCAQCgUBfEaApufzyy4uNN944aVzuvPPOQrh2O/LII48kZ2HRSoceeuh09YhkwWV+Offcc9s5bNNtOROffPLJxTbbbJNIlMzFjcIs9tnPfjYl9ZPcTxRWP0T+nU022STlk4Gj7MkSDVYpxgnDHXfcsfjqV7+atFiHHHLIdDj24hqC0PQC1ThmIBAIBAKBQF8REMFEw4KIqCXE76MboYXg7MuskiOXLr300qShqCth3lFHHVUsvPDCiTituuqqqeBlY/I+Sf5sgxwceOCBxc0339zNZY27LxydC47f//73O8KRye6JJ55I5xLuzkEYjo3lJMZtTJsbBKFpgX3TrAAADKRJREFUE7DYPBAIBAKBQGCwEKDpYBKhFajbEVVm3OWXX7444IADis0226ygrahDDPoS/anzRDjYirDiUFuW/fffP5nByt/16jMcmdtEbP3ud7+r9TQ0UYsttlht+DVrXBCaZqjEd4FAIBAIBAJDgYBBmAMqB13ahV4IH5w3vOENxWWXXVbb4eW0WWihhQp1j8jPf/7zQhkGWpGySNYn6uqTn/xkMqM1M0uVt+/0sxB2jr7MTL3CUd6fNdZYo7jvvvs6beaY+wWhGROe+DEQCAQCgUBgkBHg5yKqhlNqL+X8889PGqDGzMKdnlMI+fzzz5/Cnh2DiYvT7XXXXTfqkL4XqXXqqaem3DkijPiz1C2HH354Mg31GkfFOvkM1YVjGYcgNGU04nMgEAgEAoHA0CAg9T7NRd1mplYAMP8wydQhfEsWWWSREa3PT37yk2KBBRYYU3vBh0f0UPbpqaMdjsHZF451m5latY8vEBNh3RKEpm5E43iBQCAQCAQCPUfADF/+k7ocdKs0WF4bpi3+Lt0KUxnzzuqrr148/vjjSTvyoQ99KOVuETIuqR+CwcEZ2eFky1H3Yx/7WPHSSy9VPj1tjsSBrUTCQTiKauqXwJE/kqR8dUoQmjrRjGMFAoFAIBAI9AWBs88+O5mAuo1marexF1xwQfLZqeO8iMtqq62WnINl381EiSbG//xqRBwtu+yyyTF5zTXXLOTAaUeQog984AMpYaDjNQoTECfgOq6n8dhj/f+d73wn5aup87xBaMZCPH4LBAKBQCAQGDgEXnjhhUJOlu9973t9bxuNBifk22+/vZZzc8aV8K/sF/PKK6+M5M/x2e+0LJ1kJKbJet3rXpey/M4111wpk+/DDz+c2u7cEgn2K7dNGbBnnnkm4agyd10ShKYuJOM4gUAgEAgEAn1B4J577kkmi6qmF0SAaaoxKRyzD1OLZHntkIUjjzyykCxuGEQdqre+9a0jdZiUL5hnnnmS5ufCCy9M+WHaKVHA9HXRRReNOGHDECE67bTTUpJADsxV78sRRxyR2lEXjkFo6kIyjhMIBAKBQCDQFwROP/30lGSuyslECanfpEL0PvvsM2oXZOb1r399yixc1pCM2qjhH5mHlVN4z3veU6y11lop0Z5yAIO68NGZeeaZRxGaXGRy1llnTZquhkts+i9NEXObUHOaHmHnhAZoiSWWSCYyEViSEdKgVRHOyLCsuv14xwxCMx5C8XsgEAgEAoHAQCEgQkaJgyoiz4sMwvxPDJ5Z+Jasu+66xaKLLpqcc6tqKWhy+L5sueWWSTMh++0gLz/60Y+KN7/5zaMIjZw6yBhMquLIkZdGRfFJ+XJyrSsRV5yZ1XHKUlXbhWyq99SYTDAfp911EJp2EYvtA4FAIBAIBCYMAZoCxRLLA2iVxtDSqAad5ctf/nJySmU+Wn/99SubSeyvDeorNZqw8rEHaa345pve9KZEaGhqXOsVV1yRTGwyK99///1tNZf/jXw5DzzwQNqPb49wc0n5TjzxxBHNTZWDMldxSK6rnEMQmiqoxzaBQCAQCAQCA4GAQXC99dYbMxS5WUORoExoRAotvfTSSbPyzW9+s1hnnXWKxhpKzY5R/o5j8EQ405bbUOXzb3/724JpSUFN7c2mNdFFcKQlaUdk+RU1lQkNfxmkcNddd01mp6WWWqrg41RVdthhh+Kqq66quvmY2wWhGROe+DEQCAQCgUBgkBAwIDOViDZqR2Sn3WWXXdIuIqRmn332VEfJsd773ve2XT17u+2262vulnautbwtU5p8L40mNcTQtbeblBCRoaFpZibiC6OQ5kEHHVRuwpifaXaqmr3GPFBRFEFoxkMofg8EAoFAIBAYGAQ61dDweWEmInKg0NbstddexUorrVTMOeecxUknndTWNRqIJyJsvK1GjrGxkO1ONDR8cvjQ5Hw4iKWsx0QElEzGtF5VJTQ0VZGK7QKBQCAQCAQmFQL8V2hbqhY45OfCpDTbbLMlrYwBtKzdkZGXc3BVR1Zg0hLx/ciJ8IYRYCanT33qU5VxZJKT5G+55ZZLeW1UIBf2rfr4KquskkonqKa9xRZbVNb6wJEfT10Zg0NDM4xPYrQ5EAgEAoEpjIB6SlUrXzOpqPkkgZsFCfnjH/84gp6kdY888khbmXJF9khIp8DkMMu+++5byEpcRWh0aGVUA7/jjjvSWskGpixOveeee276rp0QbJXDRTnlRH9V2jHWNkFoxkInfgsEAoFAIBAYOATOOOOMYr/99puwdjE1CQF/8cUXR7WB9miY5KyzziqQmokSRBOOZYLZTVuC0HSDXuwbCAQCgUAg0HcEaAoUiWwkFP1qyGGHHVYceuihI6cTSfT1r389+eaMfDkEH4RsTySOMDv44INrQyoITW1QxoECgUAgEAgE+oEAIsNU8d3vfrcfpxt1DiYszsWifWgWDj/88JScT/bd/ffff9S2g/4PHDlH97PSdsZEhmG5gfjg1CVBaOpCMo4TCAQCgUAg0DcEzjvvvIKDb7/NPCKkNt9881S3SIhyLiNgfeyxx/bt+us60fXXX5/C2UWP9VPy/WvHGXu89gWhGQ+h+D0QCAQCgUBg4BBQdFG0U105TKpcIO2MKJ83vvGNo4hMJjWrrrpqKrOg1MKwLLvttlvKw1NXcrsqOIoy22STTZJzcZXtq24ThKYqUrFdIBAIBAKBwEAhcMMNN6RU/tLv90MUtzQQyzKcSUx5LVGdekfDtBx99NHF1772tXRdv/rVr/oBY6EW1wEHHFD7uYLQ1A5pHDAQCAQCgUCgXwggD3LCCCvulTCLHHfccamG1DPPPJPy2Jx22mmpBMCMM844Qm6G0eSUMVO+gAmv1zjK+yPJIR+auiUITd2IxvECgUAgEAgE+oYA34899tij2GyzzQo5ZXohiAqtzKOPPjrq8JyCTzjhhEL9IpqaYXMKLl8MIrPnnnumqKde4YjMwLFX+XuC0JTvaHwOBAKBQCAQGDoEJHfjqMscVLf5SQVpFap/9rOftcSF1sZgXTVJnQNxZr766quLo446qrjtttumOzZ/nYsuuqg49dRTi1NOOSVl05Xdt5cCR5l+N9poo9pxVFpiPBy7vbYgNN0iGPsHAoFAIBAITDgCCIL8MAZNVaW7jdpRl0hoOMfjJ598stL1VSUcTFjTpk0rllxyyWR+WWihhYqLL7541DmEUoui2mCDDRLBQAj6EdHlHELR4YhwdYsjIig0fOuttx6TFI66+A7/CULTIXCxWyAQCAQCgcDgISCLL23NrrvuWtx4443TVZker8U//vGP04C+4YYbFhxmG6tUj7d/ld8fe+yxVMSRBubll19O9YzWXnvtUf4rSgkgFZkk1RneXKWN1157bdLWqFDeCY7y9PBv6iWOjdcRhKYRkfg/EAgEAoFAYKgRQEJoNBRflASP5ua6664r1GBq1DgIIVZBWoXo3XffPWlk+MKo79QroflQyFGGYXLJJZek/8u+K+eff34x//zzJ7+cc845p3j++ed71ZyWx33ppZcSLhLgwVF25HZwVJ6iV/4yzRodhKYZKvFdIBAIBAKBwNAjwGlXfhUDMYdXUTwibDbeeONkxuFIbLBWT4gJSG2jsXxl6gJEUrlll1224HtDaJWYlxRrzIJQHXjggcXnPve5FE3F9NRO4cd8nDrWcETCquCozWeeeWbBZNdvCULTb8TjfIFAIBAIBAJ9R+C5554rfv7znxcPPvhgqhp99913F8xLzD8ccPspSNb73//+kagspqcllliipRaGVmTWWWct7rvvvn42s+m5BgnHxgYGoWlEJP4PBAKBQCAQCAR6iAAzzJxzzllceOGFydFXZJFFbpY77rgjnZl5DHkgNEdzzDFH8fjjj/ewVcN/6CA0w38P4woCgUAgEAgEhggBfjz8S+abb77i4x//eLHMMssUDz30UCFZn5w2hEOyMguf/OQniwUXXDBVpe5l0rshgq9lU4PQtIQmfggEAoFAIBAIBHqDAHJy0003FZdddlkyhTmL0gP33ntvOiEHYaHbnIOZx0LGRyAIzfgYxRaBQCAQCAQCgUAgMOAIBKEZ8BsUzQsEAoFAIBAIBAKB8REIQjM+RrFFIBAIBAKBQCAQCAw4AkFoBvwGRfMCgUAgEAgEAoFAYHwEgtCMj1FsEQgEAoFAIBAIBAIDjkAQmgG/QdG8QCAQCAQCgUAgEBgfgSA042MUWwQCgUAgEAgEAoHAgCMQhGbAb1A0LxAIBAKBQCAQCATGRyAIzfgYxRaBQCAQCAQCgUAgMOAIBKEZ8BsUzQsEAoFAIBAIBAKB8RH4f8F+nApZ1TkZAAAAAElFTkSuQmCC)\n"
      ]
    },
    {
      "cell_type": "markdown",
      "metadata": {
        "id": "Em-YD-ezdo3E",
        "colab_type": "text"
      },
      "source": [
        "a. Write a simulation program to run 100 trials where each trial records the state of the Markov chain after 200 moves and each trial has a random initial state. This program should draw a figure showing the percentage of trials (y axis) against various states (x axis). \n",
        "<div style=\"text-align: right\"><b>[25 marks]</b></div>\n"
      ]
    },
    {
      "cell_type": "code",
      "metadata": {
        "id": "W50fSR0I3a_L",
        "colab_type": "code",
        "colab": {}
      },
      "source": [
        "import numpy as np\n",
        "import matplotlib.pyplot as plt\n",
        "from pprint import pprint\n",
        "from sklearn.preprocessing import normalize\n",
        "import random\n",
        "import math\n",
        "%matplotlib inline"
      ],
      "execution_count": null,
      "outputs": []
    },
    {
      "cell_type": "code",
      "metadata": {
        "id": "t-x1zt9bexzN",
        "colab_type": "code",
        "colab": {}
      },
      "source": [
        "def Initialize(ntrials,N):\n",
        "    \"\"\"\n",
        "    Initialize the MarkovChain instance and returns dictionary index states and list of random starting postions\n",
        "\n",
        "    Parameters\n",
        "    ----------\n",
        "    ntrials: the number of trials\n",
        "\n",
        "    N: Number of states in the markov chain\n",
        "    \"\"\"\n",
        "\n",
        "    \n",
        "    states = list(range(0,N))\n",
        "\n",
        "    x = np.random.randint(size=ntrials,\n",
        "                        low=0, high=N) # a list of random initial states\n",
        "    \n",
        "    \n",
        "    index_dict = {states[index]: index for index in \n",
        "                        range(len(states))}\n",
        "\n",
        "    return index_dict,states,x\n",
        "\n",
        "def next_state(current_state,states):\n",
        "    \"\"\"\n",
        "    Returns the state of the random variable at the next time \n",
        "    instance.\n",
        "\n",
        "    Parameters\n",
        "    ----------\n",
        "    current_state: str\n",
        "        The current state of the system.\n",
        "    \"\"\"\n",
        "    return ( np.random.choice(\n",
        "        states, \n",
        "        p=transition_matrix[index_dict[current_state], :]\n",
        "    ))\n",
        "\n",
        "def generate_states(current_state, nmoves):\n",
        "    \"\"\"\n",
        "    Generates the next states of the system.\n",
        "\n",
        "    Parameters\n",
        "    ----------\n",
        "    current_state: str\n",
        "        The state of the current random variable.\n",
        "\n",
        "    no: int\n",
        "        The number of future states to generate.\n",
        "    \"\"\"\n",
        "    future_states = []\n",
        "    for i in range(nmoves):\n",
        "        nx_state = next_state(current_state,states)\n",
        "        future_states.append(nx_state)\n",
        "        current_state = nx_state\n",
        "    return future_states\n",
        "\n",
        "def MarkovChain(x,N,ntrials, nmoves):\n",
        "    \"\"\"\n",
        "    Initialize the MarkovChain instance.\n",
        "\n",
        "    Parameters\n",
        "    ----------\n",
        "    transition_matrix: 2-D array\n",
        "        A 2-D array representing the probabilities of change of \n",
        "        state in the Markov Chain.\n",
        "\n",
        "    states: 1-D array \n",
        "        An array representing the states of the Markov Chain. It\n",
        "        needs to be in the same order as transition_matrix.\n",
        "    \"\"\"\n",
        "    path = np.zeros((N,))\n",
        "    for d in range(0,ntrials):\n",
        "        current_state = x[d]\n",
        "        path[generate_states(current_state, nmoves)[-1]] +=1  # count the occurance of each state on average.\n",
        "    return path/ntrials \n",
        "    \n",
        "    "
      ],
      "execution_count": null,
      "outputs": []
    },
    {
      "cell_type": "code",
      "metadata": {
        "id": "w-0nazkikmgJ",
        "colab_type": "code",
        "colab": {
          "base_uri": "https://localhost:8080/",
          "height": 583
        },
        "outputId": "341dcac3-6604-4c24-f43f-80a6ad3fe8a9"
      },
      "source": [
        "nmoves = 200\n",
        "ntrials = 100\n",
        "transition_matrix = np.zeros((16,16))\n",
        "N = 16  # maximum population size\n",
        "\n",
        "#transition rules\n",
        "transition_matrix[0][0] = 0.5\n",
        "transition_matrix[0][1] = 0.5\n",
        "transition_matrix[12][12]= 0.2\n",
        "transition_matrix[12][13] = 0.3\n",
        "transition_matrix[12][14]= 0.3\n",
        "transition_matrix[12][11] = 0.2\n",
        "transition_matrix[13][14]= 0.5\n",
        "transition_matrix[13][15] = 0.5\n",
        "transition_matrix[14][13]= 0.5\n",
        "transition_matrix[14][15] = 0.5\n",
        "transition_matrix[15][14]= 0.5\n",
        "transition_matrix[15][13] = 0.5\n",
        "\n",
        "for column in range(1,12):\n",
        "    transition_matrix[column][column-1] = 0.5\n",
        "    transition_matrix[column][column+1] = 0.5\n",
        "\n",
        "transition_matrix = np.atleast_2d(transition_matrix)\n",
        "\n",
        "\n",
        "index_dict,states,x = Initialize(ntrials,N)\n",
        "x_axis = states\n",
        "y_axis = MarkovChain(x, N,ntrials, nmoves)\n",
        "\n",
        "plt.figure(figsize=(15, 10))\n",
        "plt.xticks(np.arange(0, 16, 1))\n",
        "\n",
        "plt.bar(x_axis,y_axis, width=0.8, bottom=None, align='center',color='g', alpha=0.6)\n",
        "plt.xlabel(r'$States$')\n",
        "plt.ylabel(r'$Percentage~of~trials$')\n",
        "plt.title(r'$ Markov~Chain~with~%d~trials$'%(ntrials))\n",
        "\n",
        "\n",
        "plt.show()"
      ],
      "execution_count": null,
      "outputs": [
        {
          "output_type": "display_data",
          "data": {
            "image/png": "[encoded data removed]",
            "text/plain": [
              "<Figure size 1080x720 with 1 Axes>"
            ]
          },
          "metadata": {
            "tags": [],
            "needs_background": "light"
          }
        }
      ]
    },
    {
      "cell_type": "markdown",
      "metadata": {
        "id": "8Idhd8Nm4tFI",
        "colab_type": "text"
      },
      "source": [
        "\n",
        "b. Whether the Markov chain has a steady-state distribution? Explain your answer.  \n",
        "<div style=\"text-align: right\"><b>[5 marks]</b></div>\n"
      ]
    },
    {
      "cell_type": "markdown",
      "metadata": {
        "id": "en_ZAEysb9ym",
        "colab_type": "text"
      },
      "source": [
        "The Markov chain does not have a steady-state distribution because it is irreducible. Looking at the transition diagram states 13,14, and 15 are closed subsets of states which means that one in any of these state it is not possible to reach other states from state 0 to 12.  This is shown in the graph where after 100 trials there are zero occurrences in some states and maximum occurrence in states 13,14, and 15."
      ]
    },
    {
      "cell_type": "markdown",
      "metadata": {
        "id": "f_rqB9uS1kHJ",
        "colab_type": "text"
      },
      "source": [
        "## Exercise 2\n",
        "Consider the Markovian queueing system shown below. Branch labels are arrival and service rates. Node labels give the number of customers in the system. Set $ \\lambda$ = 2, $\\mu $ = 3.\n",
        "\n",
        "---\n",
        "\n",
        "![image.png](data:image/png;base64,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)"
      ]
    },
    {
      "cell_type": "markdown",
      "metadata": {
        "id": "KtYbVYj72jAf",
        "colab_type": "text"
      },
      "source": [
        "a. Write a simulation program for the above queueing system. \n",
        "<div style=\"text-align: right\"><b>[30 marks]</b></div>\n"
      ]
    },
    {
      "cell_type": "code",
      "metadata": {
        "id": "ja2DtbW3LhbP",
        "colab_type": "code",
        "colab": {}
      },
      "source": [
        "transition_matrix = np.zeros((3,3))\n",
        "N = 3  # maximum population size\n",
        "\n",
        "#transition rules\n",
        "transition_matrix[0][1] = 2\n",
        "transition_matrix[1][0] = 3\n",
        "transition_matrix[1][2]= 4\n",
        "transition_matrix[2][0] = 6\n",
        "\n",
        "transition_matrix[0][0]= -2\n",
        "transition_matrix[1][1] = -7\n",
        "transition_matrix[2][2]= -6\n",
        "Q = transition_matrix\n",
        "\n",
        "def simulation(Q, max_time=100000):\n",
        "    \"\"\"\n",
        "    Run a single simulation of the continuous markov chain that corresponds to Q.\n",
        "\n",
        "    Parameters\n",
        "    ----------\n",
        "    Q: The transition matrix.\n",
        "    max_time: simulation time.\n",
        "    \"\"\"\n",
        "    \n",
        "    dimension = Q.shape[0]\n",
        "\n",
        "    state, clock = 0, 0\n",
        "\n",
        "    history = {}\n",
        "\n",
        "    while clock < max_time:\n",
        "\n",
        "        row = Q[state]\n",
        "\n",
        "        potential_states = np.where(row > 0)[0]\n",
        "\n",
        "        rates = row[potential_states]\n",
        "\n",
        "        if len(rates)>1:\n",
        "\n",
        "            samples = []\n",
        "\n",
        "            a = random.expovariate(rates[0])\n",
        "\n",
        "            b = random.expovariate(rates[1])\n",
        "\n",
        "            samples+= a,b\n",
        "\n",
        "        else:\n",
        "\n",
        "            samples = random.expovariate(rates[0])\n",
        "\n",
        "        time = np.min(samples)\n",
        "        \n",
        "        clock += time\n",
        "        \n",
        "        try:\n",
        "            history[state] += time\n",
        "\n",
        "        except KeyError:\n",
        "\n",
        "            history[state] = time\n",
        "                \n",
        "        state = potential_states[np.argmin(samples)]\n",
        "\n",
        "    return history\n",
        "\n",
        "\n",
        "def state_probability_vector(history, dimension):\n",
        "    \"\"\"\n",
        "    Convert the states history to a probability vector.\n",
        "\n",
        "    Parameters\n",
        "    ----------\n",
        "    history: The is a dictionary of the occursnce of each state after simulation. \n",
        "    dimension: this is the number of states in the markov chain.\n",
        "    \"\"\"\n",
        "    total_time = np.sum(list(history.values()))\n",
        "\n",
        "    return np.array([history.get(state) for state in range(dimension)] / total_time)\n",
        "\n",
        "\n",
        "\n",
        "dimension = Q.shape[0]\n",
        "his = simulation(Q)\n",
        "ssp = state_probability_vector(his,dimension)"
      ],
      "execution_count": null,
      "outputs": []
    },
    {
      "cell_type": "code",
      "metadata": {
        "id": "LoiFsVW_U9Gz",
        "colab_type": "code",
        "colab": {
          "base_uri": "https://localhost:8080/",
          "height": 605
        },
        "outputId": "b8cf2b1e-dc55-4a9c-ea96-548c46364b67"
      },
      "source": [
        "x_axis = list(range(0,3))\n",
        "y_axis = np.array(ssp)\n",
        "\n",
        "print(\"The simulation results:\",y_axis)\n",
        "print()\n",
        "plt.figure(figsize=(15, 10))\n",
        "plt.xticks(np.arange(0, 3, 1))\n",
        "\n",
        "plt.bar(x_axis,y_axis, width=0.8, bottom=None, align='center',color='m', alpha=0.6)\n",
        "plt.xlabel(r'$States$')\n",
        "plt.ylabel(r'$Percentage~of~trials$')\n",
        "\n",
        "plt.show()"
      ],
      "execution_count": null,
      "outputs": [
        {
          "output_type": "stream",
          "text": [
            "The simulation results: [0.67826981 0.19259702 0.12913317]\n",
            "\n"
          ],
          "name": "stdout"
        },
        {
          "output_type": "display_data",
          "data": {
            "image/png": "[encoded data removed]",
            "text/plain": [
              "<Figure size 1080x720 with 1 Axes>"
            ]
          },
          "metadata": {
            "tags": [],
            "needs_background": "light"
          }
        }
      ]
    },
    {
      "cell_type": "markdown",
      "metadata": {
        "id": "6c0h-ikkryda",
        "colab_type": "text"
      },
      "source": [
        "b. Write an analytical model to solve the steady state probabilities $p_k$ (k = 0, 1, 2), compare the analytical results with the simulation results to validate the model accuracy.   \n",
        "<div style=\"text-align: right\"><b>[25 marks]</b></div> \n"
      ]
    },
    {
      "cell_type": "markdown",
      "metadata": {
        "id": "Ms86_-4Zutxw",
        "colab_type": "text"
      },
      "source": [
        "Balance equations & Normalization equation:\n",
        "\\begin{equation}\n",
        "(\\lambda) p_0  = (\\mu) p_1 + (2\\mu) p_2\\\\\n",
        "(2\\mu) p_2 = (2\\lambda) p_1\\\\\n",
        "p_0 + p_1 + p_2 = 1\n",
        "\\end{equation}\n",
        "\n",
        "Replace $\\lambda$ and $\\mu $ with their respective values:\n",
        "\n",
        "\\begin{equation}\n",
        "2 p_0  = 3p_1 + 6 p_2\\\\\n",
        "6p_2 = 4p_1\\\\\n",
        "p_0 + p_1 + p_2 = 1\n",
        "\\end{equation}\n",
        "\n",
        "Solve for $p_0, p_1$ and $p_2$:\n",
        "\n",
        "\\begin{equation}\n",
        "p_0 = \\frac{21}{31} \\approx 0.677~_{(3.d.p)}\\\\\n",
        "p_1 = \\frac{6}{31} \\approx 0.194~_{(3.d.p)}\\\\\n",
        "p_2 = \\frac{4}{31} \\approx 0.129~_{(3.d.p)}\n",
        "\\end{equation}\n",
        "\n",
        "The simulation result is quite similar to the analytical result, so the model is accurate.\n"
      ]
    },
    {
      "cell_type": "markdown",
      "metadata": {
        "id": "avWUGTX-r4YY",
        "colab_type": "text"
      },
      "source": [
        "\n",
        "c. Use analytical model to work out the average number of customers in the system and the average response time of a customer.  \n",
        "<div style=\"text-align: right\"><b>[5 marks]</b></div>\n"
      ]
    },
    {
      "cell_type": "markdown",
      "metadata": {
        "id": "6ak80vPvyx1A",
        "colab_type": "text"
      },
      "source": [
        "The average number of customers in the system, $\\bar{N}$, is given by:\n",
        "\n",
        "\\begin{equation}\n",
        "\\bar{N} = 0\\cdot p_0  + 1\\cdot p_1 + 2\\cdot p_2\\\\\n",
        "\\bar{N} = 0 + 1 \\cdot (\\frac{6}{31}) + 2 \\cdot (\\frac{4}{31})\\\\\n",
        "\\bar{N} = \\frac{6}{31} + \\frac{8}{31}\\\\\n",
        "\\bar{N} \\approx 0.452 ~_{(3.d.p)}\n",
        "\\end{equation}\n",
        "\n",
        "If $L = W \\cdot \\lambda$, where $L$ is the average number of customers in the system, $W$ is the average response time of a customer and $\\lambda$ is the arrival rate, then:\n",
        "\n",
        "\\begin{equation}\n",
        "W = \\frac{L}{\\lambda}\\\\\n",
        "L = \\frac{14}{31}\\\\\n",
        "\\lambda = 2\\\\\n",
        "\\therefore  W = \\frac{7}{13} \\approx 0.539~_{(3.d.p)}\n",
        "\\end{equation}"
      ]
    },
    {
      "cell_type": "markdown",
      "metadata": {
        "id": "EboSjbC_r6pK",
        "colab_type": "text"
      },
      "source": [
        "\n",
        "d. Use analytical model to work out the average first passage times from state 0 and state 1 to state 2, respectively.  \n",
        "<div style=\"text-align: right\"><b>[10 marks]</b></div>"
      ]
    },
    {
      "cell_type": "markdown",
      "metadata": {
        "id": "Kf72IDWp3sHk",
        "colab_type": "text"
      },
      "source": [
        "First Passage Equation for CTMC:\n",
        "\n",
        "\\begin{equation}\n",
        "m_{i,S} = \\frac{1}{a_i} + \\sum_{j \\notin S} \\frac{a_{i,j}}{a_i}m_{j,S} ~~;~i\\notin S \n",
        "\\end{equation}\n",
        "\n",
        "\n",
        "\n",
        "In this example the non-operative state (S) is 0.Therefore, the average first passage times from state 0 to state 2 is $m_{0,2}$ and from state 1 to state 2 is $m_{1,2}$.\n",
        "\n",
        "Implementing the equation would give us:\n",
        "\n",
        "\\begin{equation}\n",
        "m_{0,2} = \\frac{1}{a_0} +  \\frac{a_{0,1}}{a_0} m_{1,2} \\\\\n",
        "m_{1,2} = \\frac{1}{a_1} + \\frac{a_{1,2}}{a_1} m_{0,2}\n",
        "\\end{equation}\n",
        "\n",
        "Replacing $a$ with the correct values:\n",
        "\n",
        "\\begin{equation}\n",
        "m_{0,2} = \\frac{3 \\cdot \\lambda + \\mu}{2 \\cdot \\lambda^2} = \\frac{9}{8} \\\\\n",
        "m_{1,2} = \\frac{\\mu + \\lambda}{2\\cdot \\mu + \\lambda} = \\frac{5}{8}\n",
        "\\end{equation}\n",
        "\n",
        "When $\\lambda = 2$ and $\\mu = 3$:\n",
        "\n",
        "\\begin{equation}\n",
        "m_{0,2} =  \\frac{9}{8} \\approx 1.125~_{(3.d.p)} \\\\\n",
        "m_{1,2} =  \\frac{5}{8} \\approx 0.625~_{(3.d.p)}\n",
        "\\end{equation}"
      ]
    }
  ]
}